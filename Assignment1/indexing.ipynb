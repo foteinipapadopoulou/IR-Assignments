{
  "cells": [
    {
      "cell_type": "markdown",
      "metadata": {
        "id": "HcuEHtGFoOqt"
      },
      "source": [
        "# Indexing Excercise\n",
        "\n",
        "This exercise has two parts:\n",
        "\n",
        "- In part 1, we are going to index the [MS MARCO](http://www.msmarco.org/) passage collection Pyserini toolkit and explore some features of the index. For this part, you only need to run code and understand it. You will be using the index and code snippets in the next assignment.\n",
        "\n",
        "- In part 2, we are going to write a code for generating an inverted index and index part of MS MARCO collection. For this part, you need to first run the first part (1.1 and 1.2) to build the environment and prepare the data.\n",
        "\n",
        "\n"
      ]
    },
    {
      "cell_type": "markdown",
      "metadata": {
        "id": "egQ3UlHWpj0K"
      },
      "source": [
        "## PART 1: Generate the index via Pyserini\n",
        "\n",
        "We use [Anserini](https://github.com/castorini/anserini]) toolkit and its python interface [Pyserini](https://github.com/castorini/pyserini)  to run our experiments.\n",
        "\n",
        "***This part is created based on Anserini/Pyserini tutorials. You can learn more by checking their repositories and tutorials.*"
      ]
    },
    {
      "cell_type": "markdown",
      "metadata": {
        "id": "LObqVhXIWY-_"
      },
      "source": [
        "### 1.1 Setup the environment\n",
        "\n",
        "Install Pyserini:"
      ]
    },
    {
      "cell_type": "code",
      "execution_count": 4,
      "metadata": {
        "colab": {
          "base_uri": "https://localhost:8080/"
        },
        "id": "-l-LUF8kWY-_",
        "outputId": "8b6beb39-1511-464b-b52c-7199a57788ef"
      },
      "outputs": [
        {
          "output_type": "stream",
          "name": "stdout",
          "text": [
            "Collecting pyserini\n",
            "  Downloading pyserini-0.22.0-py3-none-any.whl (140.5 MB)\n",
            "\u001b[2K     \u001b[90m━━━━━━━━━━━━━━━━━━━━━━━━━━━━━━━━━━━━━━━\u001b[0m \u001b[32m140.5/140.5 MB\u001b[0m \u001b[31m6.8 MB/s\u001b[0m eta \u001b[36m0:00:00\u001b[0m\n",
            "\u001b[?25hRequirement already satisfied: Cython>=0.29.21 in /usr/local/lib/python3.10/dist-packages (from pyserini) (0.29.36)\n",
            "Requirement already satisfied: numpy>=1.18.1 in /usr/local/lib/python3.10/dist-packages (from pyserini) (1.23.5)\n",
            "Requirement already satisfied: pandas>=1.4.0 in /usr/local/lib/python3.10/dist-packages (from pyserini) (1.5.3)\n",
            "Collecting pyjnius>=1.4.0 (from pyserini)\n",
            "  Downloading pyjnius-1.5.0-cp310-cp310-manylinux_2_17_x86_64.manylinux2014_x86_64.whl (1.4 MB)\n",
            "\u001b[2K     \u001b[90m━━━━━━━━━━━━━━━━━━━━━━━━━━━━━━━━━━━━━━━━\u001b[0m \u001b[32m1.4/1.4 MB\u001b[0m \u001b[31m91.6 MB/s\u001b[0m eta \u001b[36m0:00:00\u001b[0m\n",
            "\u001b[?25hRequirement already satisfied: scikit-learn>=0.22.1 in /usr/local/lib/python3.10/dist-packages (from pyserini) (1.2.2)\n",
            "Requirement already satisfied: scipy>=1.4.1 in /usr/local/lib/python3.10/dist-packages (from pyserini) (1.10.1)\n",
            "Requirement already satisfied: tqdm in /usr/local/lib/python3.10/dist-packages (from pyserini) (4.66.1)\n",
            "Collecting transformers>=4.6.0 (from pyserini)\n",
            "  Downloading transformers-4.33.1-py3-none-any.whl (7.6 MB)\n",
            "\u001b[2K     \u001b[90m━━━━━━━━━━━━━━━━━━━━━━━━━━━━━━━━━━━━━━━━\u001b[0m \u001b[32m7.6/7.6 MB\u001b[0m \u001b[31m117.8 MB/s\u001b[0m eta \u001b[36m0:00:00\u001b[0m\n",
            "\u001b[?25hCollecting sentencepiece>=0.1.95 (from pyserini)\n",
            "  Downloading sentencepiece-0.1.99-cp310-cp310-manylinux_2_17_x86_64.manylinux2014_x86_64.whl (1.3 MB)\n",
            "\u001b[2K     \u001b[90m━━━━━━━━━━━━━━━━━━━━━━━━━━━━━━━━━━━━━━━━\u001b[0m \u001b[32m1.3/1.3 MB\u001b[0m \u001b[31m83.2 MB/s\u001b[0m eta \u001b[36m0:00:00\u001b[0m\n",
            "\u001b[?25hCollecting nmslib>=2.1.1 (from pyserini)\n",
            "  Downloading nmslib-2.1.1.tar.gz (188 kB)\n",
            "\u001b[2K     \u001b[90m━━━━━━━━━━━━━━━━━━━━━━━━━━━━━━━━━━━━━━\u001b[0m \u001b[32m188.7/188.7 kB\u001b[0m \u001b[31m24.0 MB/s\u001b[0m eta \u001b[36m0:00:00\u001b[0m\n",
            "\u001b[?25h  Preparing metadata (setup.py) ... \u001b[?25l\u001b[?25hdone\n",
            "Collecting onnxruntime>=1.8.1 (from pyserini)\n",
            "  Downloading onnxruntime-1.15.1-cp310-cp310-manylinux_2_17_x86_64.manylinux2014_x86_64.whl (5.9 MB)\n",
            "\u001b[2K     \u001b[90m━━━━━━━━━━━━━━━━━━━━━━━━━━━━━━━━━━━━━━━━\u001b[0m \u001b[32m5.9/5.9 MB\u001b[0m \u001b[31m92.1 MB/s\u001b[0m eta \u001b[36m0:00:00\u001b[0m\n",
            "\u001b[?25hRequirement already satisfied: lightgbm>=3.3.2 in /usr/local/lib/python3.10/dist-packages (from pyserini) (4.0.0)\n",
            "Requirement already satisfied: spacy>=3.2.1 in /usr/local/lib/python3.10/dist-packages (from pyserini) (3.6.1)\n",
            "Requirement already satisfied: pyyaml in /usr/local/lib/python3.10/dist-packages (from pyserini) (6.0.1)\n",
            "Collecting pybind11<2.6.2 (from nmslib>=2.1.1->pyserini)\n",
            "  Using cached pybind11-2.6.1-py2.py3-none-any.whl (188 kB)\n",
            "Requirement already satisfied: psutil in /usr/local/lib/python3.10/dist-packages (from nmslib>=2.1.1->pyserini) (5.9.5)\n",
            "Collecting coloredlogs (from onnxruntime>=1.8.1->pyserini)\n",
            "  Downloading coloredlogs-15.0.1-py2.py3-none-any.whl (46 kB)\n",
            "\u001b[2K     \u001b[90m━━━━━━━━━━━━━━━━━━━━━━━━━━━━━━━━━━━━━━━━\u001b[0m \u001b[32m46.0/46.0 kB\u001b[0m \u001b[31m5.3 MB/s\u001b[0m eta \u001b[36m0:00:00\u001b[0m\n",
            "\u001b[?25hRequirement already satisfied: flatbuffers in /usr/local/lib/python3.10/dist-packages (from onnxruntime>=1.8.1->pyserini) (23.5.26)\n",
            "Requirement already satisfied: packaging in /usr/local/lib/python3.10/dist-packages (from onnxruntime>=1.8.1->pyserini) (23.1)\n",
            "Requirement already satisfied: protobuf in /usr/local/lib/python3.10/dist-packages (from onnxruntime>=1.8.1->pyserini) (3.20.3)\n",
            "Requirement already satisfied: sympy in /usr/local/lib/python3.10/dist-packages (from onnxruntime>=1.8.1->pyserini) (1.12)\n",
            "Requirement already satisfied: python-dateutil>=2.8.1 in /usr/local/lib/python3.10/dist-packages (from pandas>=1.4.0->pyserini) (2.8.2)\n",
            "Requirement already satisfied: pytz>=2020.1 in /usr/local/lib/python3.10/dist-packages (from pandas>=1.4.0->pyserini) (2023.3.post1)\n",
            "Requirement already satisfied: joblib>=1.1.1 in /usr/local/lib/python3.10/dist-packages (from scikit-learn>=0.22.1->pyserini) (1.3.2)\n",
            "Requirement already satisfied: threadpoolctl>=2.0.0 in /usr/local/lib/python3.10/dist-packages (from scikit-learn>=0.22.1->pyserini) (3.2.0)\n",
            "Requirement already satisfied: spacy-legacy<3.1.0,>=3.0.11 in /usr/local/lib/python3.10/dist-packages (from spacy>=3.2.1->pyserini) (3.0.12)\n",
            "Requirement already satisfied: spacy-loggers<2.0.0,>=1.0.0 in /usr/local/lib/python3.10/dist-packages (from spacy>=3.2.1->pyserini) (1.0.4)\n",
            "Requirement already satisfied: murmurhash<1.1.0,>=0.28.0 in /usr/local/lib/python3.10/dist-packages (from spacy>=3.2.1->pyserini) (1.0.9)\n",
            "Requirement already satisfied: cymem<2.1.0,>=2.0.2 in /usr/local/lib/python3.10/dist-packages (from spacy>=3.2.1->pyserini) (2.0.7)\n",
            "Requirement already satisfied: preshed<3.1.0,>=3.0.2 in /usr/local/lib/python3.10/dist-packages (from spacy>=3.2.1->pyserini) (3.0.8)\n",
            "Requirement already satisfied: thinc<8.2.0,>=8.1.8 in /usr/local/lib/python3.10/dist-packages (from spacy>=3.2.1->pyserini) (8.1.12)\n",
            "Requirement already satisfied: wasabi<1.2.0,>=0.9.1 in /usr/local/lib/python3.10/dist-packages (from spacy>=3.2.1->pyserini) (1.1.2)\n",
            "Requirement already satisfied: srsly<3.0.0,>=2.4.3 in /usr/local/lib/python3.10/dist-packages (from spacy>=3.2.1->pyserini) (2.4.7)\n",
            "Requirement already satisfied: catalogue<2.1.0,>=2.0.6 in /usr/local/lib/python3.10/dist-packages (from spacy>=3.2.1->pyserini) (2.0.9)\n",
            "Requirement already satisfied: typer<0.10.0,>=0.3.0 in /usr/local/lib/python3.10/dist-packages (from spacy>=3.2.1->pyserini) (0.9.0)\n",
            "Requirement already satisfied: pathy>=0.10.0 in /usr/local/lib/python3.10/dist-packages (from spacy>=3.2.1->pyserini) (0.10.2)\n",
            "Requirement already satisfied: smart-open<7.0.0,>=5.2.1 in /usr/local/lib/python3.10/dist-packages (from spacy>=3.2.1->pyserini) (6.3.0)\n",
            "Requirement already satisfied: requests<3.0.0,>=2.13.0 in /usr/local/lib/python3.10/dist-packages (from spacy>=3.2.1->pyserini) (2.31.0)\n",
            "Requirement already satisfied: pydantic!=1.8,!=1.8.1,<3.0.0,>=1.7.4 in /usr/local/lib/python3.10/dist-packages (from spacy>=3.2.1->pyserini) (2.3.0)\n",
            "Requirement already satisfied: jinja2 in /usr/local/lib/python3.10/dist-packages (from spacy>=3.2.1->pyserini) (3.1.2)\n",
            "Requirement already satisfied: setuptools in /usr/local/lib/python3.10/dist-packages (from spacy>=3.2.1->pyserini) (67.7.2)\n",
            "Requirement already satisfied: langcodes<4.0.0,>=3.2.0 in /usr/local/lib/python3.10/dist-packages (from spacy>=3.2.1->pyserini) (3.3.0)\n",
            "Requirement already satisfied: filelock in /usr/local/lib/python3.10/dist-packages (from transformers>=4.6.0->pyserini) (3.12.3)\n",
            "Collecting huggingface-hub<1.0,>=0.15.1 (from transformers>=4.6.0->pyserini)\n",
            "  Downloading huggingface_hub-0.16.4-py3-none-any.whl (268 kB)\n",
            "\u001b[2K     \u001b[90m━━━━━━━━━━━━━━━━━━━━━━━━━━━━━━━━━━━━━━\u001b[0m \u001b[32m268.8/268.8 kB\u001b[0m \u001b[31m31.5 MB/s\u001b[0m eta \u001b[36m0:00:00\u001b[0m\n",
            "\u001b[?25hRequirement already satisfied: regex!=2019.12.17 in /usr/local/lib/python3.10/dist-packages (from transformers>=4.6.0->pyserini) (2023.6.3)\n",
            "Collecting tokenizers!=0.11.3,<0.14,>=0.11.1 (from transformers>=4.6.0->pyserini)\n",
            "  Downloading tokenizers-0.13.3-cp310-cp310-manylinux_2_17_x86_64.manylinux2014_x86_64.whl (7.8 MB)\n",
            "\u001b[2K     \u001b[90m━━━━━━━━━━━━━━━━━━━━━━━━━━━━━━━━━━━━━━━━\u001b[0m \u001b[32m7.8/7.8 MB\u001b[0m \u001b[31m136.6 MB/s\u001b[0m eta \u001b[36m0:00:00\u001b[0m\n",
            "\u001b[?25hCollecting safetensors>=0.3.1 (from transformers>=4.6.0->pyserini)\n",
            "  Downloading safetensors-0.3.3-cp310-cp310-manylinux_2_17_x86_64.manylinux2014_x86_64.whl (1.3 MB)\n",
            "\u001b[2K     \u001b[90m━━━━━━━━━━━━━━━━━━━━━━━━━━━━━━━━━━━━━━━━\u001b[0m \u001b[32m1.3/1.3 MB\u001b[0m \u001b[31m81.9 MB/s\u001b[0m eta \u001b[36m0:00:00\u001b[0m\n",
            "\u001b[?25hRequirement already satisfied: fsspec in /usr/local/lib/python3.10/dist-packages (from huggingface-hub<1.0,>=0.15.1->transformers>=4.6.0->pyserini) (2023.6.0)\n",
            "Requirement already satisfied: typing-extensions>=3.7.4.3 in /usr/local/lib/python3.10/dist-packages (from huggingface-hub<1.0,>=0.15.1->transformers>=4.6.0->pyserini) (4.7.1)\n",
            "Requirement already satisfied: annotated-types>=0.4.0 in /usr/local/lib/python3.10/dist-packages (from pydantic!=1.8,!=1.8.1,<3.0.0,>=1.7.4->spacy>=3.2.1->pyserini) (0.5.0)\n",
            "Requirement already satisfied: pydantic-core==2.6.3 in /usr/local/lib/python3.10/dist-packages (from pydantic!=1.8,!=1.8.1,<3.0.0,>=1.7.4->spacy>=3.2.1->pyserini) (2.6.3)\n",
            "Requirement already satisfied: six>=1.5 in /usr/local/lib/python3.10/dist-packages (from python-dateutil>=2.8.1->pandas>=1.4.0->pyserini) (1.16.0)\n",
            "Requirement already satisfied: charset-normalizer<4,>=2 in /usr/local/lib/python3.10/dist-packages (from requests<3.0.0,>=2.13.0->spacy>=3.2.1->pyserini) (3.2.0)\n",
            "Requirement already satisfied: idna<4,>=2.5 in /usr/local/lib/python3.10/dist-packages (from requests<3.0.0,>=2.13.0->spacy>=3.2.1->pyserini) (3.4)\n",
            "Requirement already satisfied: urllib3<3,>=1.21.1 in /usr/local/lib/python3.10/dist-packages (from requests<3.0.0,>=2.13.0->spacy>=3.2.1->pyserini) (2.0.4)\n",
            "Requirement already satisfied: certifi>=2017.4.17 in /usr/local/lib/python3.10/dist-packages (from requests<3.0.0,>=2.13.0->spacy>=3.2.1->pyserini) (2023.7.22)\n",
            "Requirement already satisfied: blis<0.8.0,>=0.7.8 in /usr/local/lib/python3.10/dist-packages (from thinc<8.2.0,>=8.1.8->spacy>=3.2.1->pyserini) (0.7.10)\n",
            "Requirement already satisfied: confection<1.0.0,>=0.0.1 in /usr/local/lib/python3.10/dist-packages (from thinc<8.2.0,>=8.1.8->spacy>=3.2.1->pyserini) (0.1.1)\n",
            "Requirement already satisfied: click<9.0.0,>=7.1.1 in /usr/local/lib/python3.10/dist-packages (from typer<0.10.0,>=0.3.0->spacy>=3.2.1->pyserini) (8.1.7)\n",
            "Collecting humanfriendly>=9.1 (from coloredlogs->onnxruntime>=1.8.1->pyserini)\n",
            "  Downloading humanfriendly-10.0-py2.py3-none-any.whl (86 kB)\n",
            "\u001b[2K     \u001b[90m━━━━━━━━━━━━━━━━━━━━━━━━━━━━━━━━━━━━━━━━\u001b[0m \u001b[32m86.8/86.8 kB\u001b[0m \u001b[31m11.1 MB/s\u001b[0m eta \u001b[36m0:00:00\u001b[0m\n",
            "\u001b[?25hRequirement already satisfied: MarkupSafe>=2.0 in /usr/local/lib/python3.10/dist-packages (from jinja2->spacy>=3.2.1->pyserini) (2.1.3)\n",
            "Requirement already satisfied: mpmath>=0.19 in /usr/local/lib/python3.10/dist-packages (from sympy->onnxruntime>=1.8.1->pyserini) (1.3.0)\n",
            "Building wheels for collected packages: nmslib\n",
            "  Building wheel for nmslib (setup.py) ... \u001b[?25l\u001b[?25hdone\n",
            "  Created wheel for nmslib: filename=nmslib-2.1.1-cp310-cp310-linux_x86_64.whl size=13544178 sha256=b6551b54f695f09011dc6c6816d906b595386daad827910ed5289104ded60aad\n",
            "  Stored in directory: /root/.cache/pip/wheels/21/1a/5d/4cc754a5b1a88405cad184b76f823897a63a8d19afcd4b9314\n",
            "Successfully built nmslib\n",
            "Installing collected packages: tokenizers, sentencepiece, safetensors, pyjnius, pybind11, humanfriendly, nmslib, huggingface-hub, coloredlogs, transformers, onnxruntime, pyserini\n",
            "Successfully installed coloredlogs-15.0.1 huggingface-hub-0.16.4 humanfriendly-10.0 nmslib-2.1.1 onnxruntime-1.15.1 pybind11-2.6.1 pyjnius-1.5.0 pyserini-0.22.0 safetensors-0.3.3 sentencepiece-0.1.99 tokenizers-0.13.3 transformers-4.33.1\n"
          ]
        }
      ],
      "source": [
        "!pip install pyserini"
      ]
    },
    {
      "cell_type": "markdown",
      "metadata": {
        "id": "TuqRujlSfnTS"
      },
      "source": [
        "Clone the Anserini repository from GitHub:"
      ]
    },
    {
      "cell_type": "code",
      "execution_count": 5,
      "metadata": {
        "colab": {
          "base_uri": "https://localhost:8080/"
        },
        "id": "PaRbHfIDWY_A",
        "outputId": "ce28a1af-ba3b-4357-cd48-242427606ae4"
      },
      "outputs": [
        {
          "output_type": "stream",
          "name": "stdout",
          "text": [
            "Cloning into 'anserini'...\n",
            "remote: Enumerating objects: 29354, done.\u001b[K\n",
            "remote: Counting objects: 100% (3672/3672), done.\u001b[K\n",
            "remote: Compressing objects: 100% (959/959), done.\u001b[K\n",
            "remote: Total 29354 (delta 3146), reused 3059 (delta 2634), pack-reused 25682\u001b[K\n",
            "Receiving objects: 100% (29354/29354), 85.32 MiB | 26.58 MiB/s, done.\n",
            "Resolving deltas: 100% (19795/19795), done.\n",
            "Note: switching to 'ad5ba1c76196436f8a0e28efdb69960d4873efe3'.\n",
            "\n",
            "You are in 'detached HEAD' state. You can look around, make experimental\n",
            "changes and commit them, and you can discard any commits you make in this\n",
            "state without impacting any branches by switching back to a branch.\n",
            "\n",
            "If you want to create a new branch to retain commits you create, you may\n",
            "do so (now or later) by using -c with the switch command. Example:\n",
            "\n",
            "  git switch -c <new-branch-name>\n",
            "\n",
            "Or undo this operation with:\n",
            "\n",
            "  git switch -\n",
            "\n",
            "Turn off this advice by setting config variable advice.detachedHead to false\n",
            "\n",
            "HEAD is now at ad5ba1c7 Release notes for v0.9.2 (#1197)\n"
          ]
        }
      ],
      "source": [
        "!git clone https://github.com/castorini/anserini.git\n",
        "!cd anserini && git checkout ad5ba1c76196436f8a0e28efdb69960d4873efe3"
      ]
    },
    {
      "cell_type": "markdown",
      "metadata": {
        "id": "DcU5a-ETrqnT"
      },
      "source": [
        "### 1.2 Get the collection and prepare the files\n",
        "MS MARCO (MicroSoft MAchine Reading COmprehension) is a large-scale dataset that defines many tasks from question answering to ranking. Here we focus on the collection designed for passage re-ranking."
      ]
    },
    {
      "cell_type": "code",
      "execution_count": 6,
      "metadata": {
        "colab": {
          "base_uri": "https://localhost:8080/"
        },
        "id": "8-qUp8HKWY_A",
        "outputId": "c6f7f78e-6367-42f5-d789-692f8ae35e47"
      },
      "outputs": [
        {
          "output_type": "stream",
          "name": "stdout",
          "text": [
            "--2023-09-08 11:38:49--  https://msmarco.blob.core.windows.net/msmarcoranking/collection.tar.gz\n",
            "Resolving msmarco.blob.core.windows.net (msmarco.blob.core.windows.net)... 20.150.34.4\n",
            "Connecting to msmarco.blob.core.windows.net (msmarco.blob.core.windows.net)|20.150.34.4|:443... connected.\n",
            "HTTP request sent, awaiting response... 200 OK\n",
            "Length: 1035009698 (987M) [application/octet-stream]\n",
            "Saving to: ‘data/msmarco_passage/collection.tar.gz’\n",
            "\n",
            "collection.tar.gz   100%[===================>] 987.06M  26.6MB/s    in 39s     \n",
            "\n",
            "2023-09-08 11:39:29 (25.2 MB/s) - ‘data/msmarco_passage/collection.tar.gz’ saved [1035009698/1035009698]\n",
            "\n"
          ]
        }
      ],
      "source": [
        "!wget https://msmarco.blob.core.windows.net/msmarcoranking/collection.tar.gz -P data/msmarco_passage/"
      ]
    },
    {
      "cell_type": "code",
      "execution_count": 7,
      "metadata": {
        "colab": {
          "base_uri": "https://localhost:8080/"
        },
        "id": "nJXN_KjpWY_B",
        "outputId": "f584e45f-5e17-46ef-b691-453fe69778d2"
      },
      "outputs": [
        {
          "output_type": "stream",
          "name": "stdout",
          "text": [
            "collection.tar.gz\n",
            "collection.tsv\n"
          ]
        }
      ],
      "source": [
        "!ls data/msmarco_passage/\n",
        "!tar xvfz data/msmarco_passage/collection.tar.gz -C data/msmarco_passage"
      ]
    },
    {
      "cell_type": "markdown",
      "metadata": {
        "id": "TtK9rHMOwjYx"
      },
      "source": [
        "The original MS MARCO collection is a tab-separated values (TSV) file. We need to convert the collection into the jsonl format that can be processed by Anserini. jsonl files contain JSON object per line.\n",
        "\n",
        "This command generates 9 jsonl files in your data/msmarco_passage/collection_jsonl directory, each with 1M lines (except for the last one, which should have 841,823 lines)."
      ]
    },
    {
      "cell_type": "code",
      "execution_count": 8,
      "metadata": {
        "colab": {
          "base_uri": "https://localhost:8080/"
        },
        "id": "qzyfn0AxWY_B",
        "outputId": "7a66d147-22e3-4343-f739-f2dd39825075"
      },
      "outputs": [
        {
          "output_type": "stream",
          "name": "stdout",
          "text": [
            "Converting collection...\n",
            "Converted 0 docs in 1 files\n",
            "Converted 100000 docs in 1 files\n",
            "Converted 200000 docs in 1 files\n",
            "Converted 300000 docs in 1 files\n",
            "Converted 400000 docs in 1 files\n",
            "Converted 500000 docs in 1 files\n",
            "Converted 600000 docs in 1 files\n",
            "Converted 700000 docs in 1 files\n",
            "Converted 800000 docs in 1 files\n",
            "Converted 900000 docs in 1 files\n",
            "Converted 1000000 docs in 2 files\n",
            "Converted 1100000 docs in 2 files\n",
            "Converted 1200000 docs in 2 files\n",
            "Converted 1300000 docs in 2 files\n",
            "Converted 1400000 docs in 2 files\n",
            "Converted 1500000 docs in 2 files\n",
            "Converted 1600000 docs in 2 files\n",
            "Converted 1700000 docs in 2 files\n",
            "Converted 1800000 docs in 2 files\n",
            "Converted 1900000 docs in 2 files\n",
            "Converted 2000000 docs in 3 files\n",
            "Converted 2100000 docs in 3 files\n",
            "Converted 2200000 docs in 3 files\n",
            "Converted 2300000 docs in 3 files\n",
            "Converted 2400000 docs in 3 files\n",
            "Converted 2500000 docs in 3 files\n",
            "Converted 2600000 docs in 3 files\n",
            "Converted 2700000 docs in 3 files\n",
            "Converted 2800000 docs in 3 files\n",
            "Converted 2900000 docs in 3 files\n",
            "Converted 3000000 docs in 4 files\n",
            "Converted 3100000 docs in 4 files\n",
            "Converted 3200000 docs in 4 files\n",
            "Converted 3300000 docs in 4 files\n",
            "Converted 3400000 docs in 4 files\n",
            "Converted 3500000 docs in 4 files\n",
            "Converted 3600000 docs in 4 files\n",
            "Converted 3700000 docs in 4 files\n",
            "Converted 3800000 docs in 4 files\n",
            "Converted 3900000 docs in 4 files\n",
            "Converted 4000000 docs in 5 files\n",
            "Converted 4100000 docs in 5 files\n",
            "Converted 4200000 docs in 5 files\n",
            "Converted 4300000 docs in 5 files\n",
            "Converted 4400000 docs in 5 files\n",
            "Converted 4500000 docs in 5 files\n",
            "Converted 4600000 docs in 5 files\n",
            "Converted 4700000 docs in 5 files\n",
            "Converted 4800000 docs in 5 files\n",
            "Converted 4900000 docs in 5 files\n",
            "Converted 5000000 docs in 6 files\n",
            "Converted 5100000 docs in 6 files\n",
            "Converted 5200000 docs in 6 files\n",
            "Converted 5300000 docs in 6 files\n",
            "Converted 5400000 docs in 6 files\n",
            "Converted 5500000 docs in 6 files\n",
            "Converted 5600000 docs in 6 files\n",
            "Converted 5700000 docs in 6 files\n",
            "Converted 5800000 docs in 6 files\n",
            "Converted 5900000 docs in 6 files\n",
            "Converted 6000000 docs in 7 files\n",
            "Converted 6100000 docs in 7 files\n",
            "Converted 6200000 docs in 7 files\n",
            "Converted 6300000 docs in 7 files\n",
            "Converted 6400000 docs in 7 files\n",
            "Converted 6500000 docs in 7 files\n",
            "Converted 6600000 docs in 7 files\n",
            "Converted 6700000 docs in 7 files\n",
            "Converted 6800000 docs in 7 files\n",
            "Converted 6900000 docs in 7 files\n",
            "Converted 7000000 docs in 8 files\n",
            "Converted 7100000 docs in 8 files\n",
            "Converted 7200000 docs in 8 files\n",
            "Converted 7300000 docs in 8 files\n",
            "Converted 7400000 docs in 8 files\n",
            "Converted 7500000 docs in 8 files\n",
            "Converted 7600000 docs in 8 files\n",
            "Converted 7700000 docs in 8 files\n",
            "Converted 7800000 docs in 8 files\n",
            "Converted 7900000 docs in 8 files\n",
            "Converted 8000000 docs in 9 files\n",
            "Converted 8100000 docs in 9 files\n",
            "Converted 8200000 docs in 9 files\n",
            "Converted 8300000 docs in 9 files\n",
            "Converted 8400000 docs in 9 files\n",
            "Converted 8500000 docs in 9 files\n",
            "Converted 8600000 docs in 9 files\n",
            "Converted 8700000 docs in 9 files\n",
            "Converted 8800000 docs in 9 files\n",
            "Done!\n"
          ]
        }
      ],
      "source": [
        "!cd anserini && python ./src/main/python/msmarco/convert_collection_to_jsonl.py \\\n",
        " --collection_path ../data/msmarco_passage/collection.tsv --output_folder ../data/msmarco_passage/collection_jsonl\n"
      ]
    },
    {
      "cell_type": "markdown",
      "metadata": {
        "id": "ZDXFZHf_5lR-"
      },
      "source": [
        "**Check the data!**\n",
        "\n",
        "jsonl files are JSON files with keys id and contents:"
      ]
    },
    {
      "cell_type": "code",
      "execution_count": 9,
      "metadata": {
        "colab": {
          "base_uri": "https://localhost:8080/"
        },
        "id": "cjhXUhn7WY_C",
        "outputId": "f6ec665a-7068-4327-a073-291b565e8f61"
      },
      "outputs": [
        {
          "output_type": "stream",
          "name": "stdout",
          "text": [
            "   1000000 data/msmarco_passage/collection_jsonl/docs00.json\n",
            "   1000000 data/msmarco_passage/collection_jsonl/docs01.json\n",
            "   1000000 data/msmarco_passage/collection_jsonl/docs02.json\n",
            "   1000000 data/msmarco_passage/collection_jsonl/docs03.json\n",
            "   1000000 data/msmarco_passage/collection_jsonl/docs04.json\n",
            "   1000000 data/msmarco_passage/collection_jsonl/docs05.json\n",
            "   1000000 data/msmarco_passage/collection_jsonl/docs06.json\n",
            "   1000000 data/msmarco_passage/collection_jsonl/docs07.json\n",
            "    841823 data/msmarco_passage/collection_jsonl/docs08.json\n",
            "   8841823 total\n"
          ]
        }
      ],
      "source": [
        "!wc -l data/msmarco_passage/collection_jsonl/*"
      ]
    },
    {
      "cell_type": "code",
      "execution_count": 10,
      "metadata": {
        "colab": {
          "base_uri": "https://localhost:8080/"
        },
        "id": "aJEsHK2WWY_C",
        "outputId": "4c6e69b8-216c-4176-cfbe-75b964a74691"
      },
      "outputs": [
        {
          "output_type": "stream",
          "name": "stdout",
          "text": [
            "{\"id\": \"0\", \"contents\": \"The presence of communication amid scientific minds was equally important to the success of the Manhattan Project as scientific intellect was. The only cloud hanging over the impressive achievement of the atomic researchers and engineers is what their success truly meant; hundreds of thousands of innocent lives obliterated.\"}\n",
            "{\"id\": \"1\", \"contents\": \"The Manhattan Project and its atomic bomb helped bring an end to World War II. Its legacy of peaceful uses of atomic energy continues to have an impact on history and science.\"}\n",
            "{\"id\": \"2\", \"contents\": \"Essay on The Manhattan Project - The Manhattan Project The Manhattan Project was to see if making an atomic bomb possible. The success of this project would forever change the world forever making it known that something this powerful can be manmade.\"}\n",
            "{\"id\": \"3\", \"contents\": \"The Manhattan Project was the name for a project conducted during World War II, to develop the first atomic bomb. It refers specifically to the period of the project from 194 \\u00e2\\u0080\\u00a6 2-1946 under the control of the U.S. Army Corps of Engineers, under the administration of General Leslie R. Groves.\"}\n",
            "{\"id\": \"4\", \"contents\": \"versions of each volume as well as complementary websites. The first website\\u00e2\\u0080\\u0093The Manhattan Project: An Interactive History\\u00e2\\u0080\\u0093is available on the Office of History and Heritage Resources website, http://www.cfo. doe.gov/me70/history. The Office of History and Heritage Resources and the National Nuclear Security\"}\n"
          ]
        }
      ],
      "source": [
        "!head -5 data/msmarco_passage/collection_jsonl/docs00.json"
      ]
    },
    {
      "cell_type": "markdown",
      "metadata": {
        "id": "FAu65qTQ6KNz"
      },
      "source": [
        "Remove the original files to make room for the index.\n",
        "Check the contents of `data/msmarco_passage` before and after."
      ]
    },
    {
      "cell_type": "code",
      "execution_count": 11,
      "metadata": {
        "colab": {
          "base_uri": "https://localhost:8080/"
        },
        "id": "eoYYWOfXWY_C",
        "outputId": "222be2cb-ad77-48c3-9cd8-be74dee10dd7"
      },
      "outputs": [
        {
          "output_type": "stream",
          "name": "stdout",
          "text": [
            "collection_jsonl  collection.tar.gz  collection.tsv\n",
            "collection_jsonl  collection.tar.gz\n"
          ]
        }
      ],
      "source": [
        "!ls data/msmarco_passage\n",
        "!rm data/msmarco_passage/*.tsv\n",
        "!ls data/msmarco_passage\n",
        "!rm -rf sample_data"
      ]
    },
    {
      "cell_type": "markdown",
      "metadata": {
        "id": "Uf4Kxgpq6vna"
      },
      "source": [
        "### 1.3 Generate the index using Pyserini\n",
        "\n",
        "\n",
        "Here are some common indexing options with Pyserini (for more options, check Pyserini documentation):\n",
        "\n",
        "```\n",
        "* input: Path to collection\n",
        "* threads: Number of threads to run\n",
        "* collection: Type of Anserini Collection, e.g., LuceneDocumentGenerator, TweetGenerator (subclass of LuceneDocumentGenerator for TREC Microblog)\n",
        "* index: Path to index output\n",
        "* storePositions: Boolean flag to store positions\n",
        "* storeDocvectors: Boolean flag to store document vectors\n",
        "* storeRawDocs: Boolean flag to store raw document text\n",
        "* keepStopwords: Boolean flag to keep stopwords (False by default)\n",
        "* stemmer: Stemmer to use (Porter by default)\n",
        "```\n",
        "\n",
        "We now have everything in place to index the collection. **The indexing speed may vary, the process may take about 10 minutes (or more) in Google Colab.**\n",
        "\n",
        "\n"
      ]
    },
    {
      "cell_type": "code",
      "execution_count": 12,
      "metadata": {
        "colab": {
          "base_uri": "https://localhost:8080/"
        },
        "id": "hezLhq05WY_D",
        "outputId": "89c3840a-4d75-4339-a89e-9ec090804e62"
      },
      "outputs": [
        {
          "output_type": "stream",
          "name": "stdout",
          "text": [
            "pyserini.index is deprecated, please use pyserini.index.lucene.\n",
            "WARNING: sun.reflect.Reflection.getCallerClass is not supported. This will impact performance.\n",
            "2023-09-08 11:43:06,993 INFO  [main] index.IndexCollection (IndexCollection.java:380) - Setting log level to INFO\n",
            "2023-09-08 11:43:06,996 INFO  [main] index.IndexCollection (IndexCollection.java:383) - Starting indexer...\n",
            "2023-09-08 11:43:06,996 INFO  [main] index.IndexCollection (IndexCollection.java:384) - ============ Loading Parameters ============\n",
            "2023-09-08 11:43:06,997 INFO  [main] index.IndexCollection (IndexCollection.java:385) - DocumentCollection path: data/msmarco_passage/collection_jsonl\n",
            "2023-09-08 11:43:06,997 INFO  [main] index.IndexCollection (IndexCollection.java:386) - CollectionClass: JsonCollection\n",
            "2023-09-08 11:43:06,998 INFO  [main] index.IndexCollection (IndexCollection.java:387) - Generator: DefaultLuceneDocumentGenerator\n",
            "2023-09-08 11:43:06,998 INFO  [main] index.IndexCollection (IndexCollection.java:388) - Threads: 9\n",
            "2023-09-08 11:43:06,999 INFO  [main] index.IndexCollection (IndexCollection.java:389) - Language: en\n",
            "2023-09-08 11:43:06,999 INFO  [main] index.IndexCollection (IndexCollection.java:390) - Stemmer: porter\n",
            "2023-09-08 11:43:06,999 INFO  [main] index.IndexCollection (IndexCollection.java:391) - Keep stopwords? false\n",
            "2023-09-08 11:43:07,000 INFO  [main] index.IndexCollection (IndexCollection.java:392) - Stopwords: null\n",
            "2023-09-08 11:43:07,000 INFO  [main] index.IndexCollection (IndexCollection.java:393) - Store positions? true\n",
            "2023-09-08 11:43:07,000 INFO  [main] index.IndexCollection (IndexCollection.java:394) - Store docvectors? true\n",
            "2023-09-08 11:43:07,001 INFO  [main] index.IndexCollection (IndexCollection.java:395) - Store document \"contents\" field? false\n",
            "2023-09-08 11:43:07,001 INFO  [main] index.IndexCollection (IndexCollection.java:396) - Store document \"raw\" field? true\n",
            "2023-09-08 11:43:07,001 INFO  [main] index.IndexCollection (IndexCollection.java:397) - Additional fields to index: []\n",
            "2023-09-08 11:43:07,001 INFO  [main] index.IndexCollection (IndexCollection.java:398) - Optimize (merge segments)? false\n",
            "2023-09-08 11:43:07,003 INFO  [main] index.IndexCollection (IndexCollection.java:399) - Whitelist: null\n",
            "2023-09-08 11:43:07,004 INFO  [main] index.IndexCollection (IndexCollection.java:400) - Pretokenized?: false\n",
            "2023-09-08 11:43:07,004 INFO  [main] index.IndexCollection (IndexCollection.java:401) - Index path: indexes/lucene-index-msmarco-passage\n",
            "2023-09-08 11:43:07,012 INFO  [main] index.IndexCollection (IndexCollection.java:481) - ============ Indexing Collection ============\n",
            "2023-09-08 11:43:07,034 INFO  [main] index.IndexCollection (IndexCollection.java:468) - Using DefaultEnglishAnalyzer\n",
            "2023-09-08 11:43:07,035 INFO  [main] index.IndexCollection (IndexCollection.java:469) - Stemmer: porter\n",
            "2023-09-08 11:43:07,035 INFO  [main] index.IndexCollection (IndexCollection.java:470) - Keep stopwords? false\n",
            "2023-09-08 11:43:07,037 INFO  [main] index.IndexCollection (IndexCollection.java:471) - Stopwords file: null\n",
            "2023-09-08 11:43:07,213 INFO  [main] index.IndexCollection (IndexCollection.java:510) - Thread pool with 9 threads initialized.\n",
            "2023-09-08 11:43:07,214 INFO  [main] index.IndexCollection (IndexCollection.java:512) - Initializing collection in data/msmarco_passage/collection_jsonl\n",
            "2023-09-08 11:43:07,218 INFO  [main] index.IndexCollection (IndexCollection.java:521) - 9 files found\n",
            "2023-09-08 11:43:07,219 INFO  [main] index.IndexCollection (IndexCollection.java:522) - Starting to index...\n",
            "2023-09-08 11:44:07,226 INFO  [main] index.IndexCollection (IndexCollection.java:536) - 0.00% of files completed, 1,000,000 documents indexed\n",
            "2023-09-08 11:45:07,238 INFO  [main] index.IndexCollection (IndexCollection.java:536) - 0.00% of files completed, 2,210,000 documents indexed\n",
            "2023-09-08 11:46:07,239 INFO  [main] index.IndexCollection (IndexCollection.java:536) - 0.00% of files completed, 3,410,000 documents indexed\n",
            "2023-09-08 11:47:07,240 INFO  [main] index.IndexCollection (IndexCollection.java:536) - 0.00% of files completed, 4,550,000 documents indexed\n",
            "2023-09-08 11:48:07,241 INFO  [main] index.IndexCollection (IndexCollection.java:536) - 0.00% of files completed, 5,740,000 documents indexed\n",
            "2023-09-08 11:49:07,246 INFO  [main] index.IndexCollection (IndexCollection.java:536) - 0.00% of files completed, 6,940,000 documents indexed\n",
            "2023-09-08 11:49:30,454 DEBUG [pool-2-thread-4] index.IndexCollection$LocalIndexerThread (IndexCollection.java:345) - collection_jsonl/docs08.json: 841823 docs added.\n",
            "2023-09-08 11:50:07,250 INFO  [main] index.IndexCollection (IndexCollection.java:536) - 11.11% of files completed, 7,971,823 documents indexed\n",
            "2023-09-08 11:50:41,393 DEBUG [pool-2-thread-7] index.IndexCollection$LocalIndexerThread (IndexCollection.java:345) - collection_jsonl/docs07.json: 1000000 docs added.\n",
            "2023-09-08 11:50:53,647 DEBUG [pool-2-thread-2] index.IndexCollection$LocalIndexerThread (IndexCollection.java:345) - collection_jsonl/docs02.json: 1000000 docs added.\n",
            "2023-09-08 11:50:53,742 DEBUG [pool-2-thread-9] index.IndexCollection$LocalIndexerThread (IndexCollection.java:345) - collection_jsonl/docs00.json: 1000000 docs added.\n",
            "2023-09-08 11:50:54,154 DEBUG [pool-2-thread-6] index.IndexCollection$LocalIndexerThread (IndexCollection.java:345) - collection_jsonl/docs01.json: 1000000 docs added.\n",
            "2023-09-08 11:50:58,271 DEBUG [pool-2-thread-1] index.IndexCollection$LocalIndexerThread (IndexCollection.java:345) - collection_jsonl/docs03.json: 1000000 docs added.\n",
            "2023-09-08 11:50:59,145 DEBUG [pool-2-thread-5] index.IndexCollection$LocalIndexerThread (IndexCollection.java:345) - collection_jsonl/docs04.json: 1000000 docs added.\n",
            "2023-09-08 11:50:59,470 DEBUG [pool-2-thread-3] index.IndexCollection$LocalIndexerThread (IndexCollection.java:345) - collection_jsonl/docs05.json: 1000000 docs added.\n",
            "2023-09-08 11:51:00,577 DEBUG [pool-2-thread-8] index.IndexCollection$LocalIndexerThread (IndexCollection.java:345) - collection_jsonl/docs06.json: 1000000 docs added.\n",
            "2023-09-08 11:52:00,445 INFO  [main] index.IndexCollection (IndexCollection.java:578) - Indexing Complete! 8,841,823 documents indexed\n",
            "2023-09-08 11:52:00,445 INFO  [main] index.IndexCollection (IndexCollection.java:579) - ============ Final Counter Values ============\n",
            "2023-09-08 11:52:00,445 INFO  [main] index.IndexCollection (IndexCollection.java:580) - indexed:        8,841,823\n",
            "2023-09-08 11:52:00,446 INFO  [main] index.IndexCollection (IndexCollection.java:581) - unindexable:            0\n",
            "2023-09-08 11:52:00,446 INFO  [main] index.IndexCollection (IndexCollection.java:582) - empty:                  0\n",
            "2023-09-08 11:52:00,446 INFO  [main] index.IndexCollection (IndexCollection.java:583) - skipped:                0\n",
            "2023-09-08 11:52:00,446 INFO  [main] index.IndexCollection (IndexCollection.java:584) - errors:                 0\n",
            "2023-09-08 11:52:00,461 INFO  [main] index.IndexCollection (IndexCollection.java:587) - Total 8,841,823 documents indexed in 00:08:53\n"
          ]
        }
      ],
      "source": [
        "!python -m pyserini.index -collection JsonCollection -generator DefaultLuceneDocumentGenerator -threads 9 \\\n",
        "-input data/msmarco_passage/collection_jsonl -index indexes/lucene-index-msmarco-passage -storePositions -storeDocvectors -storeRaw"
      ]
    },
    {
      "cell_type": "markdown",
      "metadata": {
        "id": "XWl9RgbZ7dSv"
      },
      "source": [
        "Check the size of the index at the specified destination:"
      ]
    },
    {
      "cell_type": "code",
      "execution_count": 13,
      "metadata": {
        "id": "0_Nigxvr8DIK",
        "scrolled": true,
        "colab": {
          "base_uri": "https://localhost:8080/"
        },
        "outputId": "041e20e7-caf9-4517-ca71-9c751bb4fa0a"
      },
      "outputs": [
        {
          "output_type": "stream",
          "name": "stdout",
          "text": [
            "lucene-index-msmarco-passage\n",
            "4.1G\tindexes/lucene-index-msmarco-passage\n"
          ]
        }
      ],
      "source": [
        "!ls indexes\n",
        "!du -h indexes/lucene-index-msmarco-passage"
      ]
    },
    {
      "cell_type": "markdown",
      "metadata": {
        "id": "IZMAtCEE-f0q"
      },
      "source": [
        "### 1.4 Explore Pyserini index\n",
        "\n",
        "We can now explore the index using the The IndexReader class of Pyserini.\n",
        "\n",
        "Read [Usage of the Index Reader API](https://github.com/castorini/pyserini/blob/master/docs/usage-indexreader.md) notebook for more information on accessing and manipulating an inverted index."
      ]
    },
    {
      "cell_type": "code",
      "execution_count": 14,
      "metadata": {
        "id": "Pf0oDQfgp7l-"
      },
      "outputs": [],
      "source": [
        "from pyserini.index import IndexReader\n",
        "\n",
        "index_reader = IndexReader('indexes/lucene-index-msmarco-passage')"
      ]
    },
    {
      "cell_type": "markdown",
      "metadata": {
        "id": "-bI2092DyZ94"
      },
      "source": [
        "Compute the collection and document frequencies of a term:"
      ]
    },
    {
      "cell_type": "code",
      "execution_count": 15,
      "metadata": {
        "colab": {
          "base_uri": "https://localhost:8080/"
        },
        "id": "bwaMIKQyWY_E",
        "outputId": "9541f640-c3a2-4c8c-980f-f1ea77abfa86"
      },
      "outputs": [
        {
          "output_type": "stream",
          "name": "stdout",
          "text": [
            "Analyzed form of term \"plai\": df=155044, cf=200696\n"
          ]
        }
      ],
      "source": [
        "term = 'played'\n",
        "\n",
        "# Look up its document frequency (df) and collection frequency (cf).\n",
        "# Note, we use the unanalyzed form:\n",
        "df, cf = index_reader.get_term_counts(term)\n",
        "\n",
        "analyzed_form = index_reader.analyze(term)\n",
        "print(f'Analyzed form of term \"{analyzed_form[0]}\": df={df}, cf={cf}')"
      ]
    },
    {
      "cell_type": "markdown",
      "metadata": {
        "id": "ZMwpOyMTulz2"
      },
      "source": [
        "Get basic index statistics of the index.\n",
        "\n",
        "Note that unless the underlying index was built with the `-optimize` option (i.e., merging all index segments into a single segment), unique_terms will show -1 (think what could be reason)."
      ]
    },
    {
      "cell_type": "code",
      "execution_count": 16,
      "metadata": {
        "colab": {
          "base_uri": "https://localhost:8080/"
        },
        "id": "pf1JwjMuWY_E",
        "outputId": "38d9a986-0b08-40d7-c68b-b74119426727"
      },
      "outputs": [
        {
          "output_type": "execute_result",
          "data": {
            "text/plain": [
              "{'total_terms': 352316036,\n",
              " 'documents': 8841823,\n",
              " 'non_empty_documents': 8841823,\n",
              " 'unique_terms': -1}"
            ]
          },
          "metadata": {},
          "execution_count": 16
        }
      ],
      "source": [
        "index_reader.stats()"
      ]
    },
    {
      "cell_type": "markdown",
      "metadata": {
        "id": "G-JDy6U6WY_E"
      },
      "source": [
        "## PART 2: Generate the index yourself"
      ]
    },
    {
      "cell_type": "markdown",
      "metadata": {
        "id": "Mr1tzABlWY_E"
      },
      "source": [
        "### 2.1 Processing the text\n",
        "\n",
        "We need to process the text, which includes tokenization, stopword removal, and lowercasing."
      ]
    },
    {
      "cell_type": "code",
      "execution_count": 17,
      "metadata": {
        "id": "7AG7HEMEWY_F"
      },
      "outputs": [],
      "source": [
        "STOPWORDS = ['a', 'an', 'and', 'are', 'as', 'at', 'be', 'but', 'by', 'for', 'if', 'in', 'into', 'is', 'it', 'no', 'not', 'of', 'on', 'or', 'such', 'that', 'the', 'their', 'then', 'there', 'these', 'they', 'this', 'to', 'was', 'will', 'with']\n",
        "\n",
        "def process(text):\n",
        "    terms = []\n",
        "    # Remove special characters\n",
        "    chars = ['\\'', '.', ':', ',', '!', '?', '(', ')']\n",
        "    for ch in chars:\n",
        "        if ch in text:\n",
        "            text = text.replace(ch, ' ')\n",
        "\n",
        "    # Lowercasing and stopword removal\n",
        "    for term in text.split():\n",
        "        term = term.lower()\n",
        "        if term not in STOPWORDS:\n",
        "            terms.append(term)\n",
        "    return terms\n",
        ""
      ]
    },
    {
      "cell_type": "markdown",
      "metadata": {
        "id": "IOGOKOyyWY_F"
      },
      "source": [
        "### 2.2 Complete the code for Inverted Index\n",
        "\n",
        "Implement the InvertedIndex class.\n",
        "\n",
        "Write the index to a file, where posting list of each term is presented in a line with this format: `Term1 docID1:freq1 docID2:freq2 ...`, e.g.,\n",
        "\n",
        "```\n",
        "term1 1:1 4:2 5:1\n",
        "term2 2:1\n",
        "term3 1:3 3:3 9:2\n",
        "...\n",
        "```\n",
        "\n"
      ]
    },
    {
      "cell_type": "code",
      "execution_count": 28,
      "metadata": {
        "id": "QmSAgk2gQBdb"
      },
      "outputs": [],
      "source": [
        "class InvertedIndex(object):\n",
        "    def __init__(self):\n",
        "        self.index = {}\n",
        "\n",
        "    def add_posting(self, term:str, doc_id:int, count:int):\n",
        "        \"\"\"Adds a posting (term and Document ID) to the index.\"\"\"\n",
        "        # =======Your code=======\n",
        "        if term not in self.index:\n",
        "          self.index[term] = []\n",
        "        self.index[term].append({\"doc_id\":doc_id, \"count\":count})\n",
        "        # =======================\n",
        "\n",
        "    def get_posting(self,term:str):\n",
        "        \"\"\"Returns the posting list of the term from the index.\"\"\"\n",
        "        # =======Your code=======\n",
        "        if term in self.index:\n",
        "          return self.index[term]\n",
        "        return None\n",
        "        # =======================\n",
        "\n",
        "    def get_dictionary(self):\n",
        "        \"\"\"Returns the dictionary of the index (unique terms in the index).\"\"\"\n",
        "        # =======Your code=======\n",
        "        return self.index\n",
        "        # =======================\n",
        "\n",
        "    def write_to_file(self, filename_index:str):\n",
        "        \"\"\"Writes the index to a textfile.\"\"\"\n",
        "        # =======Your code=======\n",
        "        with open(filename_index,\"w\") as file:\n",
        "          for key, values in self.index.items():\n",
        "            posting = key\n",
        "            for value in values:\n",
        "              posting += f\" {value['doc_id']}:{value['count']}\"\n",
        "            file.write(posting+'\\n')\n",
        "        # ======================="
      ]
    },
    {
      "cell_type": "markdown",
      "metadata": {
        "id": "sCQmx2oeWY_F"
      },
      "source": [
        "Run this to test your code. If everything is correct, you should not get errors here."
      ]
    },
    {
      "cell_type": "code",
      "execution_count": 29,
      "metadata": {
        "id": "1L1mkba2WY_F"
      },
      "outputs": [],
      "source": [
        "index = InvertedIndex()\n",
        "index.add_posting(\"t1\", 1, 2)\n",
        "index.add_posting(\"t1\", 2, 1)\n",
        "index.add_posting(\"t2\", 2, 3)\n",
        "assert len(index.get_dictionary()) == 2\n",
        "assert len(index.get_posting(\"t1\")) == 2\n",
        "assert index.get_posting(\"t3\") == None\n",
        "index.write_to_file(\"data/msmarco_passage/collection_jsonl/text_index.txt\")"
      ]
    },
    {
      "cell_type": "markdown",
      "metadata": {
        "id": "iMX8VFxUWY_F"
      },
      "source": [
        "### 2.3 Index part of the MS MARCO collection\n",
        "\n",
        "Complete the code to process the text and create the index.\n",
        "Note that we are only interested in indexing `docs00.json` file and it takes few minutes to create the index."
      ]
    },
    {
      "cell_type": "code",
      "execution_count": 30,
      "metadata": {
        "scrolled": false,
        "id": "TEs9k7h-WY_G"
      },
      "outputs": [],
      "source": [
        "import collections\n",
        "import json\n",
        "\n",
        "ind = InvertedIndex()\n",
        "file = \"data/msmarco_passage/collection_jsonl/docs00.json\"\n",
        "index_file = \"data/msmarco_passage/collection_jsonl/tiny_index.txt\"\n",
        "\n",
        "def index(jsonl_file):\n",
        "    with open(jsonl_file, 'r') as f:\n",
        "        for line in f:\n",
        "            doc = json.loads(line)\n",
        "            # =======Your code=======\n",
        "            processed_content = process(doc[\"contents\"])\n",
        "            # Get each term and make a dictionary counting the occurences of each term\n",
        "            terms = {term:processed_content.count(term) for term in processed_content}\n",
        "            for t,count in terms.items():\n",
        "              ind.add_posting(t,doc[\"id\"],count)\n",
        "            # =======================\n",
        "\n",
        "index(file)\n",
        "ind.write_to_file(index_file)\n"
      ]
    },
    {
      "cell_type": "markdown",
      "metadata": {
        "id": "3RSmI6EvWY_G"
      },
      "source": [
        "Run this to test your code."
      ]
    },
    {
      "cell_type": "code",
      "execution_count": 31,
      "metadata": {
        "id": "dEKFz2ctWY_G"
      },
      "outputs": [],
      "source": [
        "with open(index_file, 'r') as fp:\n",
        "    assert len(fp.readlines()) == 698784\n",
        "\n",
        "assert len(ind.get_posting(\"pressingly\")) == 3\n",
        "assert len(ind.get_posting(\"veada\")) == 2"
      ]
    },
    {
      "cell_type": "markdown",
      "metadata": {
        "id": "fEnS_eQvWY_G"
      },
      "source": [
        "## Handing in\n",
        "\n",
        "Hand in both the result file and the filled-in notebook:\n",
        "\n",
        "- The result file should be named STUDENTNUMBER_FIRSTNAME_LASTNAME_tiny_index.txt\n",
        "- The notebook should be named STUDENTNUMBER_FIRSTNAME_LASTNAME_indexing.ipynb"
      ]
    },
    {
      "cell_type": "code",
      "execution_count": null,
      "metadata": {
        "id": "YgZKWVkrWY_G"
      },
      "outputs": [],
      "source": []
    }
  ],
  "metadata": {
    "colab": {
      "provenance": []
    },
    "kernelspec": {
      "display_name": "Python 3",
      "language": "python",
      "name": "python3"
    },
    "language_info": {
      "codemirror_mode": {
        "name": "ipython",
        "version": 3
      },
      "file_extension": ".py",
      "mimetype": "text/x-python",
      "name": "python",
      "nbconvert_exporter": "python",
      "pygments_lexer": "ipython3",
      "version": "3.7.4"
    },
    "vscode": {
      "interpreter": {
        "hash": "b333cffad54cf9f22a00fb4710e73f1d60aca41dd0187b9ad1417194137be373"
      }
    }
  },
  "nbformat": 4,
  "nbformat_minor": 0
}