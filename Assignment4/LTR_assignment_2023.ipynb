{
 "cells": [
  {
   "cell_type": "markdown",
   "id": "flush-weekend",
   "metadata": {
    "id": "flush-weekend"
   },
   "source": [
    "# Assignment 4: Learning to Rank\n",
    "\n",
    "In this assignment you will implement a pointwise, pairwise and listwise Learning to Rank (LTR) losses to optimize three ranking models and evaluate the differences in their performance.\n",
    "\n",
    "For this assignment, an additional notebook is provided with examples of Numpy and Tensorflow code that could be useful for this assignment."
   ]
  },
  {
   "cell_type": "markdown",
   "id": "novel-module",
   "metadata": {
    "id": "novel-module"
   },
   "source": [
    "## Dataset Setup\n",
    "\n",
    "First we will download a dataset and some helper files."
   ]
  },
  {
   "cell_type": "code",
   "execution_count": null,
   "id": "c3c2eb67",
   "metadata": {
    "ExecuteTime": {
     "end_time": "2023-10-10T11:22:21.319771100Z",
     "start_time": "2023-10-10T11:20:38.133904700Z"
    },
    "colab": {
     "base_uri": "https://localhost:8080/"
    },
    "id": "c3c2eb67",
    "outputId": "fddda058-0b29-4a0e-b8fe-14f59ba713e5"
   },
   "outputs": [
    {
     "name": "stdout",
     "output_type": "stream",
     "text": [
      "--2023-10-10 12:03:28--  http://gem.cs.ru.nl/IR-Course/LTR-dataset.npz\n",
      "Resolving gem.cs.ru.nl (gem.cs.ru.nl)... 131.174.31.31\n",
      "Connecting to gem.cs.ru.nl (gem.cs.ru.nl)|131.174.31.31|:80... connected.\n",
      "HTTP request sent, awaiting response... 200 OK\n",
      "Length: 634123360 (605M)\n",
      "Saving to: ‘LTR-dataset.npz’\n",
      "\n",
      "LTR-dataset.npz     100%[===================>] 604.75M  10.5MB/s    in 44s     \n",
      "\n",
      "2023-10-10 12:04:13 (13.7 MB/s) - ‘LTR-dataset.npz’ saved [634123360/634123360]\n",
      "\n",
      "--2023-10-10 12:04:13--  http://gem.cs.ru.nl/IR-Course/dataset.py\n",
      "Resolving gem.cs.ru.nl (gem.cs.ru.nl)... 131.174.31.31\n",
      "Connecting to gem.cs.ru.nl (gem.cs.ru.nl)|131.174.31.31|:80... connected.\n",
      "HTTP request sent, awaiting response... 200 OK\n",
      "Length: 4800 (4.7K) [text/x-python]\n",
      "Saving to: ‘dataset.py’\n",
      "\n",
      "dataset.py          100%[===================>]   4.69K  --.-KB/s    in 0s      \n",
      "\n",
      "2023-10-10 12:04:13 (280 MB/s) - ‘dataset.py’ saved [4800/4800]\n",
      "\n",
      "--2023-10-10 12:04:13--  http://gem.cs.ru.nl/IR-Course/optimization.py\n",
      "Resolving gem.cs.ru.nl (gem.cs.ru.nl)... 131.174.31.31\n",
      "Connecting to gem.cs.ru.nl (gem.cs.ru.nl)|131.174.31.31|:80... connected.\n",
      "HTTP request sent, awaiting response... 200 OK\n",
      "Length: 3470 (3.4K) [text/x-python]\n",
      "Saving to: ‘optimization.py’\n",
      "\n",
      "optimization.py     100%[===================>]   3.39K  --.-KB/s    in 0s      \n",
      "\n",
      "2023-10-10 12:04:14 (214 MB/s) - ‘optimization.py’ saved [3470/3470]\n",
      "\n",
      "--2023-10-10 12:04:14--  http://gem.cs.ru.nl/IR-Course/evaluate.py\n",
      "Resolving gem.cs.ru.nl (gem.cs.ru.nl)... 131.174.31.31\n",
      "Connecting to gem.cs.ru.nl (gem.cs.ru.nl)|131.174.31.31|:80... connected.\n",
      "HTTP request sent, awaiting response... 200 OK\n",
      "Length: 4067 (4.0K) [text/x-python]\n",
      "Saving to: ‘evaluate.py’\n",
      "\n",
      "evaluate.py         100%[===================>]   3.97K  --.-KB/s    in 0s      \n",
      "\n",
      "2023-10-10 12:04:14 (314 MB/s) - ‘evaluate.py’ saved [4067/4067]\n",
      "\n"
     ]
    }
   ],
   "source": [
    "!wget http://gem.cs.ru.nl/IR-Course/LTR-dataset.npz\n",
    "!wget http://gem.cs.ru.nl/IR-Course/dataset.py\n",
    "!wget http://gem.cs.ru.nl/IR-Course/optimization.py\n",
    "!wget http://gem.cs.ru.nl/IR-Course/evaluate.py"
   ]
  },
  {
   "cell_type": "markdown",
   "id": "17bb04fc",
   "metadata": {
    "id": "17bb04fc"
   },
   "source": [
    "Next, import the numpy and tensorflow packages and some additional files that will help us with loading data and optimization of the models."
   ]
  },
  {
   "cell_type": "code",
   "execution_count": null,
   "id": "accessory-westminster",
   "metadata": {
    "ExecuteTime": {
     "end_time": "2023-10-10T11:25:25.239583Z",
     "start_time": "2023-10-10T11:25:19.399395Z"
    },
    "id": "accessory-westminster"
   },
   "outputs": [],
   "source": [
    "import numpy as np\n",
    "import tensorflow as tf\n",
    "import dataset\n",
    "import optimization as opt\n",
    "import time"
   ]
  },
  {
   "cell_type": "markdown",
   "id": "perceived-devices",
   "metadata": {
    "id": "perceived-devices"
   },
   "source": [
    "The dataset has been pre-processed for you, we will start by loading it with our custom dataset package."
   ]
  },
  {
   "cell_type": "code",
   "execution_count": null,
   "id": "imported-quebec",
   "metadata": {
    "ExecuteTime": {
     "end_time": "2023-10-10T11:26:03.930039300Z",
     "start_time": "2023-10-10T11:25:30.878765300Z"
    },
    "colab": {
     "base_uri": "https://localhost:8080/"
    },
    "id": "imported-quebec",
    "outputId": "90ec60ff-99dd-4ac5-de4f-d46ba246d87d"
   },
   "outputs": [
    {
     "name": "stdout",
     "output_type": "stream",
     "text": [
      "Data has been loaded in, here are some statistics:\n",
      "Number of features: 501\n",
      "Number of queries in training set: 19943\n",
      "Number of documents in training set: 473092\n",
      "Number of queries in validation set: 2993\n",
      "Number of documents in validation set: 71041\n"
     ]
    }
   ],
   "source": [
    "data = dataset.load(path='LTR-dataset.npz')\n",
    "\n",
    "print('Data has been loaded in, here are some statistics:')\n",
    "print('Number of features: %d' % data.num_features)\n",
    "print('Number of queries in training set: %d' % data.train.num_queries())\n",
    "print('Number of documents in training set: %d' % data.train.num_docs())\n",
    "print('Number of queries in validation set: %d' % data.validation.num_queries())\n",
    "print('Number of documents in validation set: %d' % data.validation.num_docs())"
   ]
  },
  {
   "cell_type": "markdown",
   "id": "excellent-dealing",
   "metadata": {
    "id": "excellent-dealing"
   },
   "source": [
    "You will not need to work with the dataset directly, the optimization package will handle that for you. This assignment will only cover the implementation loss functions."
   ]
  },
  {
   "cell_type": "markdown",
   "id": "fluid-barcelona",
   "metadata": {
    "id": "fluid-barcelona"
   },
   "source": [
    "# 1 Pointwise Learning to Rank\n",
    "\n",
    "There first loss to implement is the **pointwise** [Mean-Squared-Error](https://en.wikipedia.org/wiki/Mean_squared_error) (MSE) regression loss:\n",
    "$$L = \\frac{1}{D} \\sum_{d}(\\hat{y}_d - y_d)^2.$$\n",
    "Here $D$ is the set of documents (pre-selected for a single query) and $\\hat{y}_d$ is the predicted score for document $d$ whereas $y_d$ is the true label.\n",
    "\n",
    "Complete the function below so that it provides the pointwise MSE loss, such that it can be used by Tensorflow for gradient calculation."
   ]
  },
  {
   "cell_type": "code",
   "execution_count": null,
   "id": "3eef174c",
   "metadata": {
    "ExecuteTime": {
     "end_time": "2023-10-10T12:01:56.653795300Z",
     "start_time": "2023-10-10T12:01:56.579149500Z"
    },
    "id": "3eef174c"
   },
   "outputs": [],
   "source": [
    "def pointwise_loss(predicted_scores, true_labels):\n",
    "    # replace the following nonsense loss with the MSE loss\n",
    "    loss = tf.reduce_mean(tf.math.square(predicted_scores - true_labels))\n",
    "    return loss"
   ]
  },
  {
   "cell_type": "markdown",
   "id": "5a6bbbdd",
   "metadata": {
    "id": "5a6bbbdd"
   },
   "source": [
    "If you get stuck, the [following tutorial](https://www.tensorflow.org/tutorials/customization/basics) may be helpful with the Tensorflow aspects for this assignment.\n",
    "Also remember that there is a helper notebook that explains some useful Numpy and Tensorflow functionality."
   ]
  },
  {
   "cell_type": "markdown",
   "id": "5d06146c",
   "metadata": {
    "id": "5d06146c"
   },
   "source": [
    "The assertions below will test whether your implementation returns the correct loss values in some scenarios."
   ]
  },
  {
   "cell_type": "code",
   "execution_count": null,
   "id": "539f46e2",
   "metadata": {
    "ExecuteTime": {
     "end_time": "2023-10-10T12:01:58.111446100Z",
     "start_time": "2023-10-10T12:01:58.063452700Z"
    },
    "id": "539f46e2"
   },
   "outputs": [],
   "source": [
    "assert np.isclose(pointwise_loss(tf.convert_to_tensor([0.,0.]),np.array([0,0], dtype=int)), 0)\n",
    "assert np.isclose(pointwise_loss(tf.convert_to_tensor([1.,0.]),np.array([0,1], dtype=int)), 1)\n",
    "assert np.isclose(pointwise_loss(tf.convert_to_tensor([2.,-2.]),np.array([0,1], dtype=int)), 6.5)\n",
    "assert np.isclose(pointwise_loss(tf.convert_to_tensor([2.5,-0.2]),np.array([0,1], dtype=int)), 3.845)\n",
    "assert np.isclose(pointwise_loss(tf.convert_to_tensor([2.5,-0.2]),np.array([1,0], dtype=int)), 1.145)"
   ]
  },
  {
   "cell_type": "markdown",
   "id": "25eb14a3",
   "metadata": {
    "id": "25eb14a3"
   },
   "source": [
    "Pointwise loss functions are usually very fast, nonetheless, the below code will check if your implementation is fast enough for practical use.\n",
    "\n",
    "The test will look at the gradient computation speed for the second query (query-ID=1), this is a relatively lightweight query with only a few documents:"
   ]
  },
  {
   "cell_type": "code",
   "execution_count": null,
   "id": "43ba79fb",
   "metadata": {
    "ExecuteTime": {
     "end_time": "2023-10-10T12:02:03.562623100Z",
     "start_time": "2023-10-10T12:02:00.488632200Z"
    },
    "colab": {
     "base_uri": "https://localhost:8080/"
    },
    "id": "43ba79fb",
    "outputId": "ee8f3fc5-33b0-409b-95bf-2e6c228a3b7d"
   },
   "outputs": [
    {
     "name": "stdout",
     "output_type": "stream",
     "text": [
      "Seconds run: 3.012566089630127\n",
      "Iterations completed: 143\n",
      "Iterations per second: 47\n",
      "Seconds per iteration: 0.02106689573167921\n"
     ]
    }
   ],
   "source": [
    "count = 0\n",
    "model, optimizer = opt.init_model()\n",
    "start_time = time.time()\n",
    "while time.time() - start_time < 3:\n",
    "    opt.one_optimization_step(data, 1, pointwise_loss, model, optimizer)\n",
    "    count += 1\n",
    "seconds_lapsed = time.time() - start_time\n",
    "print('Seconds run: %s' % seconds_lapsed)\n",
    "print('Iterations completed: %d' % count)\n",
    "print('Iterations per second: %d' % (count/seconds_lapsed))\n",
    "print('Seconds per iteration: %s' % (seconds_lapsed/count))\n",
    "assert count > 100"
   ]
  },
  {
   "cell_type": "markdown",
   "id": "c79f15ba",
   "metadata": {
    "id": "c79f15ba"
   },
   "source": [
    "The next test will look at one of the queries with the most pre-selected documents, this is a more heavyweight test:"
   ]
  },
  {
   "cell_type": "code",
   "execution_count": null,
   "id": "ccdf859e",
   "metadata": {
    "ExecuteTime": {
     "end_time": "2023-10-10T12:02:15.265798600Z",
     "start_time": "2023-10-10T12:02:12.199416400Z"
    },
    "colab": {
     "base_uri": "https://localhost:8080/"
    },
    "id": "ccdf859e",
    "outputId": "a378c0e1-8ded-4aef-817a-46382891750d"
   },
   "outputs": [
    {
     "name": "stdout",
     "output_type": "stream",
     "text": [
      "Seconds run: 3.0223467350006104\n",
      "Iterations completed: 134\n",
      "Iterations per second: 44\n",
      "Seconds per iteration: 0.02255482638060157\n"
     ]
    }
   ],
   "source": [
    "count = 0\n",
    "model, optimizer = opt.init_model()\n",
    "start_time = time.time()\n",
    "while time.time() - start_time < 3:\n",
    "    opt.one_optimization_step(data, 4756, pointwise_loss, model, optimizer)\n",
    "    count += 1\n",
    "seconds_lapsed = time.time() - start_time\n",
    "print('Seconds run: %s' % seconds_lapsed)\n",
    "print('Iterations completed: %d' % count)\n",
    "print('Iterations per second: %d' % (count/seconds_lapsed))\n",
    "print('Seconds per iteration: %s' % (seconds_lapsed/count))\n",
    "assert count > 100"
   ]
  },
  {
   "cell_type": "markdown",
   "id": "d3c889c4",
   "metadata": {
    "id": "d3c889c4"
   },
   "source": [
    "The following code will run your loss function for 5 epochs, this is a very low number of epochs, but provides a relatively fast way to test your implementation.\n",
    "\n",
    "If the assertions above pass but the optimization below does not, then it is likely that tensorflow cannot derive gradients from your result. This could be the case because your implementation relies on numpy functions instead of tensorflow functions. The error message may indicate if this is the case."
   ]
  },
  {
   "cell_type": "code",
   "execution_count": null,
   "id": "c5a13aa8",
   "metadata": {
    "ExecuteTime": {
     "end_time": "2023-10-10T11:57:09.918415200Z",
     "start_time": "2023-10-10T11:55:01.446636900Z"
    },
    "colab": {
     "base_uri": "https://localhost:8080/",
     "height": 970
    },
    "id": "c5a13aa8",
    "outputId": "f03ad41d-8d52-4002-e362-b435b384d74b"
   },
   "outputs": [
    {
     "name": "stdout",
     "output_type": "stream",
     "text": [
      "Epoch 0 - NDCG@10: 0.536\n",
      "Epoch 1 - Loss 1.430 - NDCG@10: 0.684\n",
      "Epoch 2 - Loss 0.855 - NDCG@10: 0.701\n",
      "Epoch 3 - Loss 0.762 - NDCG@10: 0.709\n",
      "Epoch 4 - Loss 0.735 - NDCG@10: 0.718\n",
      "Epoch 5 - Loss 0.720 - NDCG@10: 0.726\n",
      "Final results:\n",
      "dcg: 18.8472 (14.28637)\n",
      "dcg@03: 8.4062 (6.94699)\n",
      "dcg@05: 10.3390 (7.77850)\n",
      "dcg@10: 13.3099 (9.27772)\n",
      "dcg@20: 16.0638 (11.17463)\n",
      "ndcg: 0.8286 (0.14344)\n",
      "ndcg@03: 0.6423 (0.28467)\n",
      "ndcg@05: 0.6692 (0.24942)\n",
      "ndcg@10: 0.7258 (0.21889)\n",
      "ndcg@20: 0.7768 (0.18403)\n",
      "precision@01: 0.5663 (0.49559)\n",
      "precision@03: 0.3964 (0.29202)\n",
      "precision@05: 0.3196 (0.22757)\n",
      "precision@10: 0.2303 (0.16840)\n",
      "precision@20: 0.1533 (0.12069)\n",
      "recall@01: 0.2454 (0.32298)\n",
      "recall@03: 0.4388 (0.37240)\n",
      "recall@05: 0.5554 (0.37265)\n",
      "recall@10: 0.7162 (0.33353)\n",
      "recall@20: 0.8643 (0.24384)\n",
      "relevant rank: 13.4764 (14.42119)\n",
      "relevant rank per query: 54.0158 (102.85645)\n"
     ]
    },
    {
     "data": {
      "text/plain": [
       "<keras.src.engine.sequential.Sequential at 0x7f335826b760>"
      ]
     },
     "execution_count": 18,
     "metadata": {},
     "output_type": "execute_result"
    },
    {
     "data": {
      "image/png": "[encoded data removed]",
      "text/plain": [
       "<Figure size 640x480 with 2 Axes>"
      ]
     },
     "metadata": {},
     "output_type": "display_data"
    }
   ],
   "source": [
    "opt.optimization(data, pointwise_loss, num_epochs=5)"
   ]
  },
  {
   "cell_type": "markdown",
   "id": "89c3be7f",
   "metadata": {
    "id": "89c3be7f"
   },
   "source": [
    "The real assignment is to complete 50 epochs, this can take around 30 minutes. We recommend you first finish the rest of the assignment before you complete this task."
   ]
  },
  {
   "cell_type": "markdown",
   "id": "signed-undergraduate",
   "metadata": {
    "id": "signed-undergraduate"
   },
   "source": [
    "# 2 Pairwise Learning to Rank\n",
    "Implement the pairwise loss from the [LambdaLoss paper](https://storage.googleapis.com/pub-tools-public-publication-data/pdf/1e34e05e5e4bf2d12f41eb9ff29ac3da9fdb4de3.pdf):\n",
    "$$L = \\frac{1}{|\\{y_{d_i} > y_{d_j}\\}|}\\sum_{y_{d_i} > y_{d_j}}\\log(1 + e^{\\hat{y}_{d_j} - \\hat{y}_{d_i}}).$$\n",
    "The $y_{d_i} > y_{d_j}$ indicates that the label of document $i$ is greater than $j$, i.e. $d_i$ is more relevant than $d_j$, and $\\sum_{y_{d_i} > y_{d_j}}$ sums over all document pairs with unequal labels.\n",
    "\n",
    "Your implementation needs to be fast enough to be practical, the best way to do this is by using [broadcasting](https://www.tensorflow.org/guide/tensor#broadcasting). The helper notebook has some useful examples to help you on your way.\n",
    "\n",
    "Complete the function below:"
   ]
  },
  {
   "cell_type": "code",
   "execution_count": null,
   "id": "7bad7c43",
   "metadata": {
    "id": "7bad7c43"
   },
   "outputs": [],
   "source": [
    "def pairwise_loss(predicted_scores, true_labels):\n",
    "    i,j = np.where(np.greater(true_labels[:,None]-true_labels[None,:], 0))\n",
    "    if i.shape[0] == 0 :\n",
    "      return 0\n",
    "    loss = tf.reduce_mean(tf.math.log(1+tf.exp(tf.math.subtract(tf.gather(predicted_scores, j),tf.gather(predicted_scores, i)))))\n",
    "    return loss"
   ]
  },
  {
   "cell_type": "markdown",
   "id": "c49f89a7",
   "metadata": {
    "id": "c49f89a7"
   },
   "source": [
    "Here are some test scenarios:"
   ]
  },
  {
   "cell_type": "code",
   "execution_count": null,
   "id": "0c1790db",
   "metadata": {
    "id": "0c1790db"
   },
   "outputs": [],
   "source": [
    "assert np.isclose(pairwise_loss(tf.convert_to_tensor([1.]),np.array([1], dtype=int)), 0)\n",
    "assert np.isclose(pairwise_loss(tf.convert_to_tensor([0.,0.]),np.array([0,0], dtype=int)), 0)\n",
    "assert np.isclose(pairwise_loss(tf.convert_to_tensor([1.,0.]),np.array([0,1], dtype=int)), 1.3132616)\n",
    "assert np.isclose(pairwise_loss(tf.convert_to_tensor([2.,-2.]),np.array([0,1], dtype=int)), 4.01815)\n",
    "assert np.isclose(pairwise_loss(tf.convert_to_tensor([2.5,-0.2]),np.array([0,1], dtype=int)), 2.7650435)\n",
    "assert np.isclose(pairwise_loss(tf.convert_to_tensor([2.5,-0.2]),np.array([1,0], dtype=int)), 0.06504359)\n",
    "assert np.isclose(pairwise_loss(tf.convert_to_tensor([1.,2.,3.,4.,5.]),np.array([5,1,3,2,4], dtype=int)), 1.2749155)"
   ]
  },
  {
   "cell_type": "markdown",
   "id": "e1a85022",
   "metadata": {
    "id": "e1a85022"
   },
   "source": [
    "Your code should not only be correct, but also fast enough to enable feasible optimization. The following two tests will test how quick your implementation is."
   ]
  },
  {
   "cell_type": "code",
   "execution_count": null,
   "id": "5ce2ecf6",
   "metadata": {
    "colab": {
     "base_uri": "https://localhost:8080/"
    },
    "id": "5ce2ecf6",
    "outputId": "ba658a1b-a214-47ba-fb1a-8c5564e4db6d"
   },
   "outputs": [
    {
     "name": "stdout",
     "output_type": "stream",
     "text": [
      "Seconds run: 3.009368419647217\n",
      "Iterations completed: 107\n",
      "Iterations per second: 35\n",
      "Seconds per iteration: 0.02812493850137586\n"
     ]
    }
   ],
   "source": [
    "count = 0\n",
    "model, optimizer = opt.init_model()\n",
    "start_time = time.time()\n",
    "while time.time() - start_time < 3:\n",
    "    opt.one_optimization_step(data, 1, pairwise_loss, model, optimizer)\n",
    "    count += 1\n",
    "seconds_lapsed = time.time() - start_time\n",
    "print('Seconds run: %s' % seconds_lapsed)\n",
    "print('Iterations completed: %d' % count)\n",
    "print('Iterations per second: %d' % (count/seconds_lapsed))\n",
    "print('Seconds per iteration: %s' % (seconds_lapsed/count))\n",
    "assert count > 100"
   ]
  },
  {
   "cell_type": "code",
   "execution_count": null,
   "id": "73cb3fb1",
   "metadata": {
    "colab": {
     "base_uri": "https://localhost:8080/"
    },
    "id": "73cb3fb1",
    "outputId": "d9930a00-9010-49d1-9734-e94c4ff776d3"
   },
   "outputs": [
    {
     "name": "stdout",
     "output_type": "stream",
     "text": [
      "Seconds run: 3.0105583667755127\n",
      "Iterations completed: 110\n",
      "Iterations per second: 36\n",
      "Seconds per iteration: 0.027368712425231933\n"
     ]
    }
   ],
   "source": [
    "count = 0\n",
    "model, optimizer = opt.init_model()\n",
    "start_time = time.time()\n",
    "while time.time() - start_time < 3:\n",
    "    opt.one_optimization_step(data, 4756, pairwise_loss, model, optimizer)\n",
    "    count += 1\n",
    "seconds_lapsed = time.time() - start_time\n",
    "print('Seconds run: %s' % seconds_lapsed)\n",
    "print('Iterations completed: %d' % count)\n",
    "print('Iterations per second: %d' % (count/seconds_lapsed))\n",
    "print('Seconds per iteration: %s' % (seconds_lapsed/count))\n",
    "assert count > 100"
   ]
  },
  {
   "cell_type": "markdown",
   "id": "c2648ccb",
   "metadata": {
    "id": "c2648ccb"
   },
   "source": [
    "Finally, test your implementation by running 5 epochs."
   ]
  },
  {
   "cell_type": "code",
   "execution_count": null,
   "id": "e4cb9887",
   "metadata": {
    "colab": {
     "base_uri": "https://localhost:8080/",
     "height": 970
    },
    "id": "e4cb9887",
    "outputId": "3c860c1b-9274-40d7-b354-d76afe39bdb5"
   },
   "outputs": [
    {
     "name": "stdout",
     "output_type": "stream",
     "text": [
      "Epoch 0 - NDCG@10: 0.531\n",
      "Epoch 1 - Loss 0.592 - NDCG@10: 0.730\n",
      "Epoch 2 - Loss 0.558 - NDCG@10: 0.738\n",
      "Epoch 3 - Loss 0.550 - NDCG@10: 0.743\n",
      "Epoch 4 - Loss 0.546 - NDCG@10: 0.743\n",
      "Epoch 5 - Loss 0.543 - NDCG@10: 0.745\n",
      "Final results:\n",
      "dcg: 19.2394 (14.78109)\n",
      "dcg@03: 8.9036 (7.37536)\n",
      "dcg@05: 10.8787 (8.29264)\n",
      "dcg@10: 13.8292 (9.81329)\n",
      "dcg@20: 16.5566 (11.74203)\n",
      "ndcg: 0.8409 (0.14087)\n",
      "ndcg@03: 0.6706 (0.27967)\n",
      "ndcg@05: 0.6944 (0.24562)\n",
      "ndcg@10: 0.7452 (0.21380)\n",
      "ndcg@20: 0.7928 (0.17850)\n",
      "precision@01: 0.6100 (0.48774)\n",
      "precision@03: 0.4227 (0.30562)\n",
      "precision@05: 0.3374 (0.24046)\n",
      "precision@10: 0.2393 (0.17607)\n",
      "precision@20: 0.1576 (0.12559)\n",
      "recall@01: 0.2564 (0.31892)\n",
      "recall@03: 0.4602 (0.37510)\n",
      "recall@05: 0.5692 (0.37075)\n",
      "recall@10: 0.7332 (0.32958)\n",
      "recall@20: 0.8793 (0.23398)\n",
      "relevant rank: 12.5441 (13.68570)\n",
      "relevant rank per query: 50.2790 (95.76996)\n"
     ]
    },
    {
     "data": {
      "text/plain": [
       "<keras.src.engine.sequential.Sequential at 0x7f33581f21a0>"
      ]
     },
     "execution_count": 117,
     "metadata": {},
     "output_type": "execute_result"
    },
    {
     "data": {
      "image/png": "[encoded data removed]",
      "text/plain": [
       "<Figure size 640x480 with 2 Axes>"
      ]
     },
     "metadata": {},
     "output_type": "display_data"
    }
   ],
   "source": [
    "opt.optimization(data, pairwise_loss, num_epochs=5)"
   ]
  },
  {
   "cell_type": "markdown",
   "id": "loved-enough",
   "metadata": {
    "id": "loved-enough"
   },
   "source": [
    "# 3 Listwise Learning to Rank\n",
    "\n",
    "Implement the listwise loss from the [original listwise LTR paper](http://icml2008.cs.helsinki.fi/papers/167.pdf), this paper models the probability of a ranking as a Plackett-Luce model (similar to a soft-max function). As the loss function we will use the negative log-likelihood of the optimal ranking.\n",
    "Let $R$ denote the optimal ranking for query $q$, ${R[i]}$ as the $i$th document in the optimal ranking and $\\hat{y}_{R[i]}$ as its predicted score, the loss is then:\n",
    "$$L = - \\sum_{i = 1}^{|R|} \\log\\left( \\frac{ \\exp\\left(\\hat{y}_{R[i]} \\right)}{\\sum_{j=i}^{|R|} \\exp\\left(\\hat{y}_{R[j]}\\right)} \\right).$$\n",
    "\n",
    "Please note that the denominator sum starts at $i$ and **not** at $1$.\n",
    "\n",
    "Use broadcasting to make your implementation fast.\n",
    "Complete the function below:"
   ]
  },
  {
   "cell_type": "code",
   "execution_count": null,
   "id": "bd132474",
   "metadata": {
    "id": "bd132474"
   },
   "outputs": [],
   "source": [
    "def listwise_loss(predicted_scores, true_labels):\n",
    "   # make true_labels start indexing from 0\n",
    "    true_labels -= 1\n",
    "    sorted_indices = tf.argsort(true_labels)\n",
    "    sorted_scores = tf.gather(predicted_scores, sorted_indices)\n",
    "    cumsum = tf.cumsum(tf.exp(sorted_scores))\n",
    "    loss = -tf.reduce_sum(tf.math.log(tf.math.divide(tf.exp(sorted_scores),cumsum)))\n",
    "    return loss"
   ]
  },
  {
   "cell_type": "markdown",
   "id": "5329d1d0",
   "metadata": {
    "id": "5329d1d0"
   },
   "source": [
    "The following assertions will test the correctness of your implementation in some scenarios."
   ]
  },
  {
   "cell_type": "code",
   "execution_count": null,
   "id": "f4c716dc",
   "metadata": {
    "id": "f4c716dc"
   },
   "outputs": [],
   "source": [
    "assert np.isclose(listwise_loss(tf.convert_to_tensor([1.]),np.array([1], dtype=int)), 0)\n",
    "assert np.isclose(listwise_loss(tf.convert_to_tensor([1.,0.]),np.array([0,1], dtype=int)), 1.3132616)\n",
    "assert np.isclose(listwise_loss(tf.convert_to_tensor([2.,-2.]),np.array([0,1], dtype=int)), 4.01815)\n",
    "assert np.isclose(listwise_loss(tf.convert_to_tensor([2.5,-0.2]),np.array([0,1], dtype=int)), 2.7650435)\n",
    "assert np.isclose(listwise_loss(tf.convert_to_tensor([2.5,-0.2]),np.array([1,0], dtype=int)), 0.065043524)\n",
    "assert np.isclose(listwise_loss(tf.convert_to_tensor([1.,2.,3.,4.,5.]),np.array([5,1,3,2,4], dtype=int)), 6.4266376)"
   ]
  },
  {
   "cell_type": "markdown",
   "id": "deca1e99",
   "metadata": {
    "id": "deca1e99"
   },
   "source": [
    "The tests below verify whether your implementation is fast enough to be usable in practice."
   ]
  },
  {
   "cell_type": "code",
   "execution_count": null,
   "id": "e80d1822",
   "metadata": {
    "colab": {
     "base_uri": "https://localhost:8080/"
    },
    "id": "e80d1822",
    "outputId": "c2e8a137-34f4-4806-8350-a0eb0df0746f"
   },
   "outputs": [
    {
     "name": "stdout",
     "output_type": "stream",
     "text": [
      "Seconds run: 3.002747058868408\n",
      "Iterations completed: 111\n",
      "Iterations per second: 36\n",
      "Seconds per iteration: 0.027051775305120793\n"
     ]
    }
   ],
   "source": [
    "count = 0\n",
    "model, optimizer = opt.init_model()\n",
    "start_time = time.time()\n",
    "while time.time() - start_time < 3:\n",
    "    opt.one_optimization_step(data, 1, listwise_loss, model, optimizer)\n",
    "    count += 1\n",
    "seconds_lapsed = time.time() - start_time\n",
    "print('Seconds run: %s' % seconds_lapsed)\n",
    "print('Iterations completed: %d' % count)\n",
    "print('Iterations per second: %d' % (count/seconds_lapsed))\n",
    "print('Seconds per iteration: %s' % (seconds_lapsed/count))\n",
    "assert count > 100"
   ]
  },
  {
   "cell_type": "code",
   "execution_count": null,
   "id": "52fafa64",
   "metadata": {
    "colab": {
     "base_uri": "https://localhost:8080/"
    },
    "id": "52fafa64",
    "outputId": "c79f15fe-e7c4-480f-8b43-ad8616a1a09b"
   },
   "outputs": [
    {
     "name": "stdout",
     "output_type": "stream",
     "text": [
      "Seconds run: 3.0132806301116943\n",
      "Iterations completed: 113\n",
      "Iterations per second: 37\n",
      "Seconds per iteration: 0.026666200266475173\n"
     ]
    }
   ],
   "source": [
    "count = 0\n",
    "model, optimizer = opt.init_model()\n",
    "start_time = time.time()\n",
    "while time.time() - start_time < 3:\n",
    "    opt.one_optimization_step(data, 4756, listwise_loss, model, optimizer)\n",
    "    count += 1\n",
    "seconds_lapsed = time.time() - start_time\n",
    "print('Seconds run: %s' % seconds_lapsed)\n",
    "print('Iterations completed: %d' % count)\n",
    "print('Iterations per second: %d' % (count/seconds_lapsed))\n",
    "print('Seconds per iteration: %s' % (seconds_lapsed/count))\n",
    "assert count > 100"
   ]
  },
  {
   "cell_type": "markdown",
   "id": "8bb7e786",
   "metadata": {
    "id": "8bb7e786"
   },
   "source": [
    "Lastly, verify whether you can complete 5 epochs."
   ]
  },
  {
   "cell_type": "code",
   "execution_count": null,
   "id": "9cbeba99",
   "metadata": {
    "colab": {
     "base_uri": "https://localhost:8080/",
     "height": 970
    },
    "id": "9cbeba99",
    "outputId": "ba514d47-aeb5-4414-a62d-806e88c99376"
   },
   "outputs": [
    {
     "name": "stdout",
     "output_type": "stream",
     "text": [
      "Epoch 0 - NDCG@10: 0.610\n",
      "Epoch 1 - Loss 59.366 - NDCG@10: 0.727\n",
      "Epoch 2 - Loss 59.070 - NDCG@10: 0.735\n",
      "Epoch 3 - Loss 58.993 - NDCG@10: 0.739\n",
      "Epoch 4 - Loss 58.941 - NDCG@10: 0.738\n",
      "Epoch 5 - Loss 58.907 - NDCG@10: 0.741\n",
      "Final results:\n",
      "dcg: 19.1431 (14.72237)\n",
      "dcg@03: 8.7681 (7.23576)\n",
      "dcg@05: 10.7742 (8.19412)\n",
      "dcg@10: 13.7359 (9.73708)\n",
      "dcg@20: 16.4860 (11.69927)\n",
      "ndcg: 0.8372 (0.14259)\n",
      "ndcg@03: 0.6645 (0.28055)\n",
      "ndcg@05: 0.6903 (0.24684)\n",
      "ndcg@10: 0.7412 (0.21477)\n",
      "ndcg@20: 0.7897 (0.17970)\n",
      "precision@01: 0.5832 (0.49303)\n",
      "precision@03: 0.4197 (0.30720)\n",
      "precision@05: 0.3361 (0.24298)\n",
      "precision@10: 0.2396 (0.17768)\n",
      "precision@20: 0.1581 (0.12652)\n",
      "recall@01: 0.2447 (0.31624)\n",
      "recall@03: 0.4514 (0.37481)\n",
      "recall@05: 0.5618 (0.37293)\n",
      "recall@10: 0.7339 (0.33054)\n",
      "recall@20: 0.8795 (0.23436)\n",
      "relevant rank: 12.6076 (13.75230)\n",
      "relevant rank per query: 50.5336 (95.83085)\n"
     ]
    },
    {
     "data": {
      "text/plain": [
       "<keras.src.engine.sequential.Sequential at 0x7f3358555d80>"
      ]
     },
     "execution_count": 307,
     "metadata": {},
     "output_type": "execute_result"
    },
    {
     "data": {
      "image/png": "[encoded data removed]",
      "text/plain": [
       "<Figure size 640x480 with 2 Axes>"
      ]
     },
     "metadata": {},
     "output_type": "display_data"
    }
   ],
   "source": [
    "opt.optimization(data, listwise_loss, num_epochs=5)"
   ]
  },
  {
   "cell_type": "markdown",
   "id": "b981a254",
   "metadata": {
    "id": "b981a254"
   },
   "source": [
    "# 4 Full Training\n",
    "\n",
    "At this point, you should be ready to fully complete 25 epochs of training per epoch.\n",
    "\n",
    "Run the below code, this may take over an hour in total, so it may be a good idea to something else while it runs. For example, you could grab a coffee or tea and look at the list of projects for the remainder of this course."
   ]
  },
  {
   "cell_type": "markdown",
   "id": "94f491ae",
   "metadata": {
    "id": "94f491ae"
   },
   "source": [
    "## Pointwise Loss - 25 Epochs"
   ]
  },
  {
   "cell_type": "code",
   "execution_count": null,
   "id": "4f1a715d",
   "metadata": {
    "colab": {
     "base_uri": "https://localhost:8080/",
     "height": 1000
    },
    "id": "4f1a715d",
    "outputId": "09d8d082-4082-480c-ba34-ead7bf924a2f"
   },
   "outputs": [
    {
     "name": "stdout",
     "output_type": "stream",
     "text": [
      "Epoch 0 - NDCG@10: 0.513\n",
      "Epoch 1 - Loss 25.497 - NDCG@10: 0.475\n",
      "Epoch 2 - Loss 17.889 - NDCG@10: 0.478\n",
      "Epoch 3 - Loss 16.965 - NDCG@10: 0.495\n",
      "Epoch 4 - Loss 16.879 - NDCG@10: 0.538\n",
      "Epoch 5 - Loss 16.868 - NDCG@10: 0.595\n",
      "Epoch 6 - Loss 16.860 - NDCG@10: 0.631\n",
      "Epoch 7 - Loss 16.851 - NDCG@10: 0.660\n",
      "Epoch 8 - Loss 16.840 - NDCG@10: 0.675\n",
      "Epoch 9 - Loss 16.828 - NDCG@10: 0.687\n",
      "Epoch 10 - Loss 16.813 - NDCG@10: 0.694\n",
      "Epoch 11 - Loss 16.792 - NDCG@10: 0.697\n",
      "Epoch 12 - Loss 16.770 - NDCG@10: 0.699\n",
      "Epoch 13 - Loss 16.742 - NDCG@10: 0.702\n",
      "Epoch 14 - Loss 16.709 - NDCG@10: 0.705\n",
      "Epoch 15 - Loss 16.676 - NDCG@10: 0.706\n",
      "Epoch 16 - Loss 16.652 - NDCG@10: 0.708\n",
      "Epoch 17 - Loss 16.630 - NDCG@10: 0.710\n",
      "Epoch 18 - Loss 16.616 - NDCG@10: 0.715\n",
      "Epoch 19 - Loss 16.615 - NDCG@10: 0.719\n",
      "Epoch 20 - Loss 16.597 - NDCG@10: 0.722\n",
      "Epoch 21 - Loss 16.593 - NDCG@10: 0.723\n",
      "Epoch 22 - Loss 16.581 - NDCG@10: 0.724\n",
      "Epoch 23 - Loss 16.578 - NDCG@10: 0.724\n",
      "Epoch 24 - Loss 16.572 - NDCG@10: 0.725\n",
      "Epoch 25 - Loss 16.566 - NDCG@10: 0.726\n",
      "Final results:\n",
      "dcg: 18.8736 (14.34912)\n",
      "dcg@03: 8.4733 (6.98806)\n",
      "dcg@05: 10.3800 (7.86124)\n",
      "dcg@10: 13.3422 (9.32044)\n",
      "dcg@20: 16.0852 (11.20870)\n",
      "ndcg: 0.8285 (0.14374)\n",
      "ndcg@03: 0.6451 (0.28386)\n",
      "ndcg@05: 0.6689 (0.25088)\n",
      "ndcg@10: 0.7260 (0.21858)\n",
      "ndcg@20: 0.7771 (0.18288)\n",
      "precision@01: 0.5721 (0.49477)\n",
      "precision@03: 0.4055 (0.29001)\n",
      "precision@05: 0.3220 (0.23172)\n",
      "precision@10: 0.2305 (0.16980)\n",
      "precision@20: 0.1532 (0.12053)\n",
      "recall@01: 0.2439 (0.31808)\n",
      "recall@03: 0.4521 (0.37468)\n",
      "recall@05: 0.5521 (0.37364)\n",
      "recall@10: 0.7108 (0.33651)\n",
      "recall@20: 0.8631 (0.24770)\n",
      "relevant rank: 13.3790 (14.37446)\n",
      "relevant rank per query: 53.6252 (101.92738)\n"
     ]
    },
    {
     "data": {
      "image/png": "[encoded data removed]",
      "text/plain": [
       "<Figure size 640x480 with 2 Axes>"
      ]
     },
     "metadata": {},
     "output_type": "display_data"
    }
   ],
   "source": [
    "pointwise_model = opt.optimization(data, pointwise_loss, num_epochs=25)"
   ]
  },
  {
   "cell_type": "markdown",
   "id": "9e7792d7",
   "metadata": {
    "id": "9e7792d7"
   },
   "source": [
    "## Pairwise Loss - 25 Epochs"
   ]
  },
  {
   "cell_type": "code",
   "execution_count": null,
   "id": "3348e3c0",
   "metadata": {
    "colab": {
     "base_uri": "https://localhost:8080/",
     "height": 1000
    },
    "id": "3348e3c0",
    "outputId": "c0a8dac7-6661-4aca-96f4-3250381c9a2f"
   },
   "outputs": [
    {
     "name": "stdout",
     "output_type": "stream",
     "text": [
      "Epoch 0 - NDCG@10: 0.504\n",
      "Epoch 1 - Loss 0.597 - NDCG@10: 0.729\n",
      "Epoch 2 - Loss 0.560 - NDCG@10: 0.738\n",
      "Epoch 3 - Loss 0.552 - NDCG@10: 0.741\n",
      "Epoch 4 - Loss 0.547 - NDCG@10: 0.743\n",
      "Epoch 5 - Loss 0.544 - NDCG@10: 0.743\n",
      "Epoch 6 - Loss 0.542 - NDCG@10: 0.747\n",
      "Epoch 7 - Loss 0.539 - NDCG@10: 0.747\n",
      "Epoch 8 - Loss 0.538 - NDCG@10: 0.747\n",
      "Epoch 9 - Loss 0.535 - NDCG@10: 0.749\n",
      "Epoch 10 - Loss 0.534 - NDCG@10: 0.751\n",
      "Epoch 11 - Loss 0.532 - NDCG@10: 0.751\n",
      "Epoch 12 - Loss 0.530 - NDCG@10: 0.750\n",
      "Epoch 13 - Loss 0.529 - NDCG@10: 0.752\n",
      "Epoch 14 - Loss 0.527 - NDCG@10: 0.750\n",
      "Epoch 15 - Loss 0.526 - NDCG@10: 0.755\n",
      "Epoch 16 - Loss 0.524 - NDCG@10: 0.753\n",
      "Epoch 17 - Loss 0.523 - NDCG@10: 0.755\n",
      "Epoch 18 - Loss 0.522 - NDCG@10: 0.755\n",
      "Epoch 19 - Loss 0.520 - NDCG@10: 0.757\n",
      "Epoch 20 - Loss 0.519 - NDCG@10: 0.756\n",
      "Epoch 21 - Loss 0.518 - NDCG@10: 0.756\n",
      "Epoch 22 - Loss 0.517 - NDCG@10: 0.757\n",
      "Epoch 23 - Loss 0.516 - NDCG@10: 0.757\n",
      "Epoch 24 - Loss 0.514 - NDCG@10: 0.756\n",
      "Epoch 25 - Loss 0.513 - NDCG@10: 0.756\n",
      "Final results:\n",
      "dcg: 19.3667 (14.89070)\n",
      "dcg@03: 9.0227 (7.41486)\n",
      "dcg@05: 11.0713 (8.43080)\n",
      "dcg@10: 14.0587 (10.01626)\n",
      "dcg@20: 16.7490 (11.94615)\n",
      "ndcg: 0.8471 (0.13959)\n",
      "ndcg@03: 0.6812 (0.27873)\n",
      "ndcg@05: 0.7065 (0.24385)\n",
      "ndcg@10: 0.7560 (0.21047)\n",
      "ndcg@20: 0.8008 (0.17692)\n",
      "precision@01: 0.6188 (0.48568)\n",
      "precision@03: 0.4369 (0.30971)\n",
      "precision@05: 0.3521 (0.24837)\n",
      "precision@10: 0.2479 (0.18051)\n",
      "precision@20: 0.1595 (0.12787)\n",
      "recall@01: 0.2659 (0.32473)\n",
      "recall@03: 0.4655 (0.37446)\n",
      "recall@05: 0.5838 (0.36772)\n",
      "recall@10: 0.7541 (0.32357)\n",
      "recall@20: 0.8849 (0.23170)\n",
      "relevant rank: 12.2215 (13.72126)\n",
      "relevant rank per query: 48.9860 (95.92851)\n"
     ]
    },
    {
     "data": {
      "image/png": "[encoded data removed]",
      "text/plain": [
       "<Figure size 640x480 with 2 Axes>"
      ]
     },
     "metadata": {},
     "output_type": "display_data"
    }
   ],
   "source": [
    "pairwise_model = opt.optimization(data, pairwise_loss, num_epochs=25)"
   ]
  },
  {
   "cell_type": "markdown",
   "id": "acc342af",
   "metadata": {
    "id": "acc342af"
   },
   "source": [
    "## Listwise Loss - 25 Epochs"
   ]
  },
  {
   "cell_type": "code",
   "execution_count": null,
   "id": "44dd0102",
   "metadata": {
    "colab": {
     "base_uri": "https://localhost:8080/",
     "height": 1000
    },
    "id": "44dd0102",
    "outputId": "c3c7752c-da56-4ef1-bb1d-d46f7d00eb3e"
   },
   "outputs": [
    {
     "name": "stdout",
     "output_type": "stream",
     "text": [
      "Epoch 0 - NDCG@10: 0.525\n",
      "Epoch 1 - Loss 59.460 - NDCG@10: 0.725\n",
      "Epoch 2 - Loss 59.089 - NDCG@10: 0.733\n",
      "Epoch 3 - Loss 58.996 - NDCG@10: 0.739\n",
      "Epoch 4 - Loss 58.938 - NDCG@10: 0.740\n",
      "Epoch 5 - Loss 58.895 - NDCG@10: 0.738\n",
      "Epoch 6 - Loss 58.859 - NDCG@10: 0.742\n",
      "Epoch 7 - Loss 58.832 - NDCG@10: 0.744\n",
      "Epoch 8 - Loss 58.806 - NDCG@10: 0.744\n",
      "Epoch 9 - Loss 58.777 - NDCG@10: 0.746\n",
      "Epoch 10 - Loss 58.752 - NDCG@10: 0.747\n",
      "Epoch 11 - Loss 58.731 - NDCG@10: 0.747\n",
      "Epoch 12 - Loss 58.715 - NDCG@10: 0.748\n",
      "Epoch 13 - Loss 58.697 - NDCG@10: 0.749\n",
      "Epoch 14 - Loss 58.677 - NDCG@10: 0.750\n",
      "Epoch 15 - Loss 58.663 - NDCG@10: 0.751\n",
      "Epoch 16 - Loss 58.645 - NDCG@10: 0.753\n",
      "Epoch 17 - Loss 58.637 - NDCG@10: 0.751\n",
      "Epoch 18 - Loss 58.620 - NDCG@10: 0.753\n",
      "Epoch 19 - Loss 58.609 - NDCG@10: 0.753\n",
      "Epoch 20 - Loss 58.597 - NDCG@10: 0.751\n",
      "Epoch 21 - Loss 58.581 - NDCG@10: 0.752\n",
      "Epoch 22 - Loss 58.568 - NDCG@10: 0.754\n",
      "Epoch 23 - Loss 58.560 - NDCG@10: 0.753\n",
      "Epoch 24 - Loss 58.551 - NDCG@10: 0.754\n",
      "Epoch 25 - Loss 58.543 - NDCG@10: 0.754\n",
      "Final results:\n",
      "dcg: 19.4091 (14.98352)\n",
      "dcg@03: 9.0810 (7.49697)\n",
      "dcg@05: 11.1236 (8.55283)\n",
      "dcg@10: 14.0835 (10.06155)\n",
      "dcg@20: 16.8150 (12.05065)\n",
      "ndcg: 0.8458 (0.14025)\n",
      "ndcg@03: 0.6794 (0.27752)\n",
      "ndcg@05: 0.7045 (0.24420)\n",
      "ndcg@10: 0.7542 (0.20952)\n",
      "ndcg@20: 0.8005 (0.17589)\n",
      "precision@01: 0.6328 (0.48204)\n",
      "precision@03: 0.4384 (0.30792)\n",
      "precision@05: 0.3506 (0.25186)\n",
      "precision@10: 0.2459 (0.18083)\n",
      "precision@20: 0.1602 (0.12975)\n",
      "recall@01: 0.2633 (0.31795)\n",
      "recall@03: 0.4708 (0.37410)\n",
      "recall@05: 0.5787 (0.36977)\n",
      "recall@10: 0.7481 (0.32514)\n",
      "recall@20: 0.8839 (0.22866)\n",
      "relevant rank: 12.1850 (13.62084)\n",
      "relevant rank per query: 48.8395 (93.70829)\n"
     ]
    },
    {
     "data": {
      "image/png": "[encoded data removed]",
      "text/plain": [
       "<Figure size 640x480 with 2 Axes>"
      ]
     },
     "metadata": {},
     "output_type": "display_data"
    }
   ],
   "source": [
    "listwise_model = opt.optimization(data, listwise_loss, num_epochs=25)"
   ]
  },
  {
   "cell_type": "markdown",
   "id": "lasting-order",
   "metadata": {
    "id": "lasting-order"
   },
   "source": [
    "# 5 Reflection\n",
    "\n",
    "Look and compare the loss and DCG plots for the different LTR methods.\n",
    "Discuss the differences you see and how this relates to the LTR theory.\n",
    "\n",
    "The loss and NDCG@10 plots for the three approaches seem to contain some observable differences. First, the loss curve in the pointwise approach follows a sharp decrease after the 3 or 4 epochs, while the NDCG@10 plot has a smooth increase until around the 10th epoch, followed by a slower increase. This behavior on both plots can be explained because the pointwise approach uses the regression technique where the aim is to minimize the error loss function and also because this technique ignores the position of each document in the ranking list and provides a prediction for relevance between document and query, which means that more relevant documents receive higher positions within the top 10.\n",
    "Conversely, the loss graphs for the pairwise and listwise approaches demonstrate a steady decline compared to the pointwise approach. This declination is expected since pairwise and listwise approaches focus on optimizing the entire ranked list while the pointwise approach optimizes the individual document prediction. Moreover, the NDCG@10 plot displays more fluctuations, while it increases, on the pairwise approach than the listwise approach. This observation aligns with LTR theory as the pairwise approach compares pairs of documents which means that it is more sensitive to small changes between each pair of documents than the listwise approach that focuses on the optimization of the entire ranked list of documents."
   ]
  },
  {
   "cell_type": "markdown",
   "id": "renewable-outline",
   "metadata": {
    "id": "renewable-outline"
   },
   "source": [
    "# 6 Submit your runs for the test set\n",
    "The following code will create a submission file which you will hand in for evaluation.\n",
    "\n",
    "Replace the placeholders with your student number and name."
   ]
  },
  {
   "cell_type": "code",
   "execution_count": null,
   "id": "macro-arbor",
   "metadata": {
    "id": "macro-arbor"
   },
   "outputs": [],
   "source": [
    "student_number = 's1122141'\n",
    "student_first_name = 'FOTEINI'\n",
    "student_last_name = 'PAPADOPOULOU'\n",
    "output_path = '%s_%s_%s_LTR_assignment.json' % (student_number, student_first_name, student_last_name)\n",
    "dataset.output_model_scores(output_path, data, pointwise_model, pairwise_model, listwise_model)"
   ]
  }
 ],
 "metadata": {
  "colab": {
   "provenance": []
  },
  "kernelspec": {
   "display_name": "Python 3 (ipykernel)",
   "language": "python",
   "name": "python3"
  },
  "language_info": {
   "codemirror_mode": {
    "name": "ipython",
    "version": 3
   },
   "file_extension": ".py",
   "mimetype": "text/x-python",
   "name": "python",
   "nbconvert_exporter": "python",
   "pygments_lexer": "ipython3",
   "version": "3.11.5"
  }
 },
 "nbformat": 4,
 "nbformat_minor": 5
}
